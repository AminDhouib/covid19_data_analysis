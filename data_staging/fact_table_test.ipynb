{
 "cells": [
  {
   "cell_type": "code",
   "execution_count": 1,
   "metadata": {},
   "outputs": [],
   "source": [
    "import pandas as pd \n",
    "import sys"
   ]
  },
  {
   "cell_type": "code",
   "execution_count": 2,
   "metadata": {},
   "outputs": [],
   "source": [
    "fact_table = pd.read_csv('dimensions/fact_table_final.csv')\n",
    "date_dimension = pd.read_csv('dimensions/date_dimension.csv')\n",
    "special_measures_dimension = pd.read_csv('dimensions/special_measures_dimension.csv')"
   ]
  },
  {
   "cell_type": "code",
   "execution_count": 3,
   "metadata": {},
   "outputs": [
    {
     "data": {
      "text/plain": [
       "Special_Measures_key      int64\n",
       "Title                    object\n",
       "Description              object\n",
       "keyword_1                object\n",
       "keyword_2                object\n",
       "start_date               object\n",
       "end_date                 object\n",
       "value                   float64\n",
       "dtype: object"
      ]
     },
     "execution_count": 3,
     "metadata": {},
     "output_type": "execute_result"
    }
   ],
   "source": [
    "special_measures_dimension.dtypes"
   ]
  },
  {
   "cell_type": "code",
   "execution_count": 4,
   "metadata": {},
   "outputs": [],
   "source": [
    "date_dimension['date'] = pd.to_datetime(date_dimension['date'])\n",
    "special_measures_dimension['start_date'] = pd.to_datetime(special_measures_dimension['start_date'])\n",
    "special_measures_dimension['end_date'] = pd.to_datetime(special_measures_dimension['end_date'])"
   ]
  },
  {
   "cell_type": "code",
   "execution_count": 5,
   "metadata": {},
   "outputs": [
    {
     "data": {
      "text/html": [
       "<div>\n",
       "<style scoped>\n",
       "    .dataframe tbody tr th:only-of-type {\n",
       "        vertical-align: middle;\n",
       "    }\n",
       "\n",
       "    .dataframe tbody tr th {\n",
       "        vertical-align: top;\n",
       "    }\n",
       "\n",
       "    .dataframe thead th {\n",
       "        text-align: right;\n",
       "    }\n",
       "</style>\n",
       "<table border=\"1\" class=\"dataframe\">\n",
       "  <thead>\n",
       "    <tr style=\"text-align: right;\">\n",
       "      <th></th>\n",
       "      <th>Onset_date_surrogate</th>\n",
       "      <th>Reported_date_surrogate</th>\n",
       "      <th>Test_date_surrogate</th>\n",
       "      <th>Specimen_date_surrogate</th>\n",
       "      <th>Patient_surrogate</th>\n",
       "      <th>PHU_Location_surrogate</th>\n",
       "      <th>Mobility_surrogate</th>\n",
       "      <th>Special_Measures_surrogate</th>\n",
       "      <th>Weather_surrogate</th>\n",
       "      <th>num_resolved</th>\n",
       "      <th>num_unresolved</th>\n",
       "      <th>num_fatal</th>\n",
       "    </tr>\n",
       "  </thead>\n",
       "  <tbody>\n",
       "    <tr>\n",
       "      <th>0</th>\n",
       "      <td>4</td>\n",
       "      <td>371</td>\n",
       "      <td>371</td>\n",
       "      <td>370</td>\n",
       "      <td>184</td>\n",
       "      <td>0</td>\n",
       "      <td>712</td>\n",
       "      <td>12</td>\n",
       "      <td>92</td>\n",
       "      <td>1</td>\n",
       "      <td>0</td>\n",
       "      <td>0</td>\n",
       "    </tr>\n",
       "    <tr>\n",
       "      <th>1</th>\n",
       "      <td>8</td>\n",
       "      <td>375</td>\n",
       "      <td>375</td>\n",
       "      <td>8</td>\n",
       "      <td>6</td>\n",
       "      <td>2</td>\n",
       "      <td>592</td>\n",
       "      <td>12</td>\n",
       "      <td>96</td>\n",
       "      <td>1</td>\n",
       "      <td>0</td>\n",
       "      <td>0</td>\n",
       "    </tr>\n",
       "    <tr>\n",
       "      <th>2</th>\n",
       "      <td>11</td>\n",
       "      <td>378</td>\n",
       "      <td>378</td>\n",
       "      <td>377</td>\n",
       "      <td>190</td>\n",
       "      <td>5</td>\n",
       "      <td>99</td>\n",
       "      <td>12</td>\n",
       "      <td>223</td>\n",
       "      <td>1</td>\n",
       "      <td>0</td>\n",
       "      <td>0</td>\n",
       "    </tr>\n",
       "    <tr>\n",
       "      <th>3</th>\n",
       "      <td>20</td>\n",
       "      <td>393</td>\n",
       "      <td>393</td>\n",
       "      <td>386</td>\n",
       "      <td>303</td>\n",
       "      <td>0</td>\n",
       "      <td>734</td>\n",
       "      <td>12</td>\n",
       "      <td>114</td>\n",
       "      <td>1</td>\n",
       "      <td>0</td>\n",
       "      <td>0</td>\n",
       "    </tr>\n",
       "    <tr>\n",
       "      <th>4</th>\n",
       "      <td>21</td>\n",
       "      <td>297</td>\n",
       "      <td>297</td>\n",
       "      <td>21</td>\n",
       "      <td>78</td>\n",
       "      <td>0</td>\n",
       "      <td>638</td>\n",
       "      <td>1</td>\n",
       "      <td>18</td>\n",
       "      <td>1</td>\n",
       "      <td>0</td>\n",
       "      <td>0</td>\n",
       "    </tr>\n",
       "  </tbody>\n",
       "</table>\n",
       "</div>"
      ],
      "text/plain": [
       "   Onset_date_surrogate  Reported_date_surrogate  Test_date_surrogate  \\\n",
       "0                     4                      371                  371   \n",
       "1                     8                      375                  375   \n",
       "2                    11                      378                  378   \n",
       "3                    20                      393                  393   \n",
       "4                    21                      297                  297   \n",
       "\n",
       "   Specimen_date_surrogate  Patient_surrogate  PHU_Location_surrogate  \\\n",
       "0                      370                184                       0   \n",
       "1                        8                  6                       2   \n",
       "2                      377                190                       5   \n",
       "3                      386                303                       0   \n",
       "4                       21                 78                       0   \n",
       "\n",
       "   Mobility_surrogate  Special_Measures_surrogate  Weather_surrogate  \\\n",
       "0                 712                          12                 92   \n",
       "1                 592                          12                 96   \n",
       "2                  99                          12                223   \n",
       "3                 734                          12                114   \n",
       "4                 638                           1                 18   \n",
       "\n",
       "   num_resolved  num_unresolved  num_fatal  \n",
       "0             1               0          0  \n",
       "1             1               0          0  \n",
       "2             1               0          0  \n",
       "3             1               0          0  \n",
       "4             1               0          0  "
      ]
     },
     "execution_count": 5,
     "metadata": {},
     "output_type": "execute_result"
    }
   ],
   "source": [
    "fact_table.head()"
   ]
  },
  {
   "cell_type": "code",
   "execution_count": 6,
   "metadata": {},
   "outputs": [
    {
     "name": "stdout",
     "output_type": "stream",
     "text": [
      "112351 out of 112352 generated..."
     ]
    }
   ],
   "source": [
    "y = len(fact_table)\n",
    "for idx, row in fact_table.iterrows():\n",
    "    sys.stdout.write(\"\\r{0} out of {1} generated...\".format(idx,y))\n",
    "    reported_date = date_dimension[date_dimension[\"date_key\"]==row[\"Reported_date_surrogate\"]][\"date\"].values[0]\n",
    "    special_measure_start = special_measures_dimension[\n",
    "        special_measures_dimension['Special_Measures_key']==row['Special_Measures_surrogate']][\"start_date\"].values[0]\n",
    "    \n",
    "    if (reported_date < special_measure_start):\n",
    "        print(F\"bad dates for row {idx}\")\n",
    "        print(F\"Reported date: {reported_date}\")\n",
    "        print(F\"Start date: {reported_date}\")"
   ]
  },
  {
   "cell_type": "code",
   "execution_count": 7,
   "metadata": {},
   "outputs": [
    {
     "data": {
      "text/plain": [
       "pandas.core.series.Series"
      ]
     },
     "execution_count": 7,
     "metadata": {},
     "output_type": "execute_result"
    }
   ],
   "source": [
    "type(special_measures_dimension.start_date)"
   ]
  },
  {
   "cell_type": "code",
   "execution_count": 9,
   "metadata": {},
   "outputs": [
    {
     "data": {
      "text/plain": [
       "9"
      ]
     },
     "execution_count": 9,
     "metadata": {},
     "output_type": "execute_result"
    }
   ],
   "source": [
    "len(set(fact_table['Special_Measures_surrogate']))"
   ]
  }
 ],
 "metadata": {
  "kernelspec": {
   "display_name": "Python 3",
   "language": "python",
   "name": "python3"
  },
  "language_info": {
   "codemirror_mode": {
    "name": "ipython",
    "version": 3
   },
   "file_extension": ".py",
   "mimetype": "text/x-python",
   "name": "python",
   "nbconvert_exporter": "python",
   "pygments_lexer": "ipython3",
   "version": "3.8.5"
  }
 },
 "nbformat": 4,
 "nbformat_minor": 4
}
