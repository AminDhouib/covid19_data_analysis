{
 "cells": [
  {
   "cell_type": "code",
   "execution_count": 65,
   "metadata": {},
   "outputs": [],
   "source": [
    "import pandas as pd\n",
    "import numpy as np\n",
    "import sys"
   ]
  },
  {
   "cell_type": "code",
   "execution_count": 2,
   "metadata": {},
   "outputs": [],
   "source": [
    "df = pd.read_csv('individual_covid_cases_ontario.csv')"
   ]
  },
  {
   "cell_type": "code",
   "execution_count": 3,
   "metadata": {},
   "outputs": [
    {
     "data": {
      "text/html": [
       "<div>\n",
       "<style scoped>\n",
       "    .dataframe tbody tr th:only-of-type {\n",
       "        vertical-align: middle;\n",
       "    }\n",
       "\n",
       "    .dataframe tbody tr th {\n",
       "        vertical-align: top;\n",
       "    }\n",
       "\n",
       "    .dataframe thead th {\n",
       "        text-align: right;\n",
       "    }\n",
       "</style>\n",
       "<table border=\"1\" class=\"dataframe\">\n",
       "  <thead>\n",
       "    <tr style=\"text-align: right;\">\n",
       "      <th></th>\n",
       "      <th>Row_ID</th>\n",
       "      <th>Accurate_Episode_Date</th>\n",
       "      <th>Case_Reported_Date</th>\n",
       "      <th>Test_Reported_Date</th>\n",
       "      <th>Specimen_Date</th>\n",
       "      <th>Age_Group</th>\n",
       "      <th>Client_Gender</th>\n",
       "      <th>Case_AcquisitionInfo</th>\n",
       "      <th>Outcome1</th>\n",
       "      <th>Outbreak_Related</th>\n",
       "      <th>Reporting_PHU_ID</th>\n",
       "      <th>Reporting_PHU</th>\n",
       "      <th>Reporting_PHU_Address</th>\n",
       "      <th>Reporting_PHU_City</th>\n",
       "      <th>Reporting_PHU_Postal_Code</th>\n",
       "      <th>Reporting_PHU_Website</th>\n",
       "      <th>Reporting_PHU_Latitude</th>\n",
       "      <th>Reporting_PHU_Longitude</th>\n",
       "    </tr>\n",
       "  </thead>\n",
       "  <tbody>\n",
       "    <tr>\n",
       "      <th>0</th>\n",
       "      <td>1</td>\n",
       "      <td>2020-03-18</td>\n",
       "      <td>2020-03-19</td>\n",
       "      <td>2020-03-19</td>\n",
       "      <td>2020-03-19</td>\n",
       "      <td>40s</td>\n",
       "      <td>MALE</td>\n",
       "      <td>NO KNOWN EPI LINK</td>\n",
       "      <td>Resolved</td>\n",
       "      <td>NaN</td>\n",
       "      <td>3895</td>\n",
       "      <td>Toronto Public Health</td>\n",
       "      <td>277 Victoria Street, 5th Floor</td>\n",
       "      <td>Toronto</td>\n",
       "      <td>M5B 1W2</td>\n",
       "      <td>www.toronto.ca/community-people/health-wellnes...</td>\n",
       "      <td>43.656591</td>\n",
       "      <td>-79.379358</td>\n",
       "    </tr>\n",
       "    <tr>\n",
       "      <th>1</th>\n",
       "      <td>2</td>\n",
       "      <td>2020-03-16</td>\n",
       "      <td>2020-03-19</td>\n",
       "      <td>2020-03-19</td>\n",
       "      <td>2020-03-17</td>\n",
       "      <td>60s</td>\n",
       "      <td>FEMALE</td>\n",
       "      <td>TRAVEL</td>\n",
       "      <td>Resolved</td>\n",
       "      <td>NaN</td>\n",
       "      <td>3895</td>\n",
       "      <td>Toronto Public Health</td>\n",
       "      <td>277 Victoria Street, 5th Floor</td>\n",
       "      <td>Toronto</td>\n",
       "      <td>M5B 1W2</td>\n",
       "      <td>www.toronto.ca/community-people/health-wellnes...</td>\n",
       "      <td>43.656591</td>\n",
       "      <td>-79.379358</td>\n",
       "    </tr>\n",
       "    <tr>\n",
       "      <th>2</th>\n",
       "      <td>3</td>\n",
       "      <td>2020-03-14</td>\n",
       "      <td>2020-03-19</td>\n",
       "      <td>2020-03-18</td>\n",
       "      <td>2020-03-18</td>\n",
       "      <td>30s</td>\n",
       "      <td>FEMALE</td>\n",
       "      <td>TRAVEL</td>\n",
       "      <td>Resolved</td>\n",
       "      <td>NaN</td>\n",
       "      <td>3895</td>\n",
       "      <td>Toronto Public Health</td>\n",
       "      <td>277 Victoria Street, 5th Floor</td>\n",
       "      <td>Toronto</td>\n",
       "      <td>M5B 1W2</td>\n",
       "      <td>www.toronto.ca/community-people/health-wellnes...</td>\n",
       "      <td>43.656591</td>\n",
       "      <td>-79.379358</td>\n",
       "    </tr>\n",
       "    <tr>\n",
       "      <th>3</th>\n",
       "      <td>4</td>\n",
       "      <td>2020-03-15</td>\n",
       "      <td>2020-03-19</td>\n",
       "      <td>2020-03-19</td>\n",
       "      <td>2020-03-17</td>\n",
       "      <td>20s</td>\n",
       "      <td>FEMALE</td>\n",
       "      <td>TRAVEL</td>\n",
       "      <td>Resolved</td>\n",
       "      <td>NaN</td>\n",
       "      <td>3895</td>\n",
       "      <td>Toronto Public Health</td>\n",
       "      <td>277 Victoria Street, 5th Floor</td>\n",
       "      <td>Toronto</td>\n",
       "      <td>M5B 1W2</td>\n",
       "      <td>www.toronto.ca/community-people/health-wellnes...</td>\n",
       "      <td>43.656591</td>\n",
       "      <td>-79.379358</td>\n",
       "    </tr>\n",
       "    <tr>\n",
       "      <th>4</th>\n",
       "      <td>5</td>\n",
       "      <td>2020-03-19</td>\n",
       "      <td>2020-03-19</td>\n",
       "      <td>2020-03-20</td>\n",
       "      <td>2020-03-19</td>\n",
       "      <td>40s</td>\n",
       "      <td>MALE</td>\n",
       "      <td>CC</td>\n",
       "      <td>Resolved</td>\n",
       "      <td>NaN</td>\n",
       "      <td>3895</td>\n",
       "      <td>Toronto Public Health</td>\n",
       "      <td>277 Victoria Street, 5th Floor</td>\n",
       "      <td>Toronto</td>\n",
       "      <td>M5B 1W2</td>\n",
       "      <td>www.toronto.ca/community-people/health-wellnes...</td>\n",
       "      <td>43.656591</td>\n",
       "      <td>-79.379358</td>\n",
       "    </tr>\n",
       "  </tbody>\n",
       "</table>\n",
       "</div>"
      ],
      "text/plain": [
       "   Row_ID Accurate_Episode_Date Case_Reported_Date Test_Reported_Date  \\\n",
       "0       1            2020-03-18         2020-03-19         2020-03-19   \n",
       "1       2            2020-03-16         2020-03-19         2020-03-19   \n",
       "2       3            2020-03-14         2020-03-19         2020-03-18   \n",
       "3       4            2020-03-15         2020-03-19         2020-03-19   \n",
       "4       5            2020-03-19         2020-03-19         2020-03-20   \n",
       "\n",
       "  Specimen_Date Age_Group Client_Gender Case_AcquisitionInfo  Outcome1  \\\n",
       "0    2020-03-19       40s          MALE    NO KNOWN EPI LINK  Resolved   \n",
       "1    2020-03-17       60s        FEMALE               TRAVEL  Resolved   \n",
       "2    2020-03-18       30s        FEMALE               TRAVEL  Resolved   \n",
       "3    2020-03-17       20s        FEMALE               TRAVEL  Resolved   \n",
       "4    2020-03-19       40s          MALE                   CC  Resolved   \n",
       "\n",
       "  Outbreak_Related  Reporting_PHU_ID          Reporting_PHU  \\\n",
       "0              NaN              3895  Toronto Public Health   \n",
       "1              NaN              3895  Toronto Public Health   \n",
       "2              NaN              3895  Toronto Public Health   \n",
       "3              NaN              3895  Toronto Public Health   \n",
       "4              NaN              3895  Toronto Public Health   \n",
       "\n",
       "            Reporting_PHU_Address Reporting_PHU_City  \\\n",
       "0  277 Victoria Street, 5th Floor            Toronto   \n",
       "1  277 Victoria Street, 5th Floor            Toronto   \n",
       "2  277 Victoria Street, 5th Floor            Toronto   \n",
       "3  277 Victoria Street, 5th Floor            Toronto   \n",
       "4  277 Victoria Street, 5th Floor            Toronto   \n",
       "\n",
       "  Reporting_PHU_Postal_Code  \\\n",
       "0                   M5B 1W2   \n",
       "1                   M5B 1W2   \n",
       "2                   M5B 1W2   \n",
       "3                   M5B 1W2   \n",
       "4                   M5B 1W2   \n",
       "\n",
       "                               Reporting_PHU_Website  Reporting_PHU_Latitude  \\\n",
       "0  www.toronto.ca/community-people/health-wellnes...               43.656591   \n",
       "1  www.toronto.ca/community-people/health-wellnes...               43.656591   \n",
       "2  www.toronto.ca/community-people/health-wellnes...               43.656591   \n",
       "3  www.toronto.ca/community-people/health-wellnes...               43.656591   \n",
       "4  www.toronto.ca/community-people/health-wellnes...               43.656591   \n",
       "\n",
       "   Reporting_PHU_Longitude  \n",
       "0               -79.379358  \n",
       "1               -79.379358  \n",
       "2               -79.379358  \n",
       "3               -79.379358  \n",
       "4               -79.379358  "
      ]
     },
     "execution_count": 3,
     "metadata": {},
     "output_type": "execute_result"
    }
   ],
   "source": [
    "df.head()"
   ]
  },
  {
   "cell_type": "markdown",
   "metadata": {},
   "source": [
    "1. Rename columns"
   ]
  },
  {
   "cell_type": "code",
   "execution_count": 4,
   "metadata": {
    "scrolled": false
   },
   "outputs": [
    {
     "data": {
      "text/html": [
       "<div>\n",
       "<style scoped>\n",
       "    .dataframe tbody tr th:only-of-type {\n",
       "        vertical-align: middle;\n",
       "    }\n",
       "\n",
       "    .dataframe tbody tr th {\n",
       "        vertical-align: top;\n",
       "    }\n",
       "\n",
       "    .dataframe thead th {\n",
       "        text-align: right;\n",
       "    }\n",
       "</style>\n",
       "<table border=\"1\" class=\"dataframe\">\n",
       "  <thead>\n",
       "    <tr style=\"text-align: right;\">\n",
       "      <th></th>\n",
       "      <th>row_id</th>\n",
       "      <th>accurate_date</th>\n",
       "      <th>reported_date</th>\n",
       "      <th>test_date</th>\n",
       "      <th>specimen_date</th>\n",
       "      <th>age_group</th>\n",
       "      <th>gender</th>\n",
       "      <th>acquisition_info</th>\n",
       "      <th>outcome</th>\n",
       "      <th>outbreak_related</th>\n",
       "      <th>phu_id</th>\n",
       "      <th>phu_name</th>\n",
       "      <th>phu_address</th>\n",
       "      <th>phu_city</th>\n",
       "      <th>phu_postal_code</th>\n",
       "      <th>phu_url</th>\n",
       "      <th>phu_lat</th>\n",
       "      <th>phu_long</th>\n",
       "    </tr>\n",
       "  </thead>\n",
       "  <tbody>\n",
       "    <tr>\n",
       "      <th>0</th>\n",
       "      <td>1</td>\n",
       "      <td>2020-03-18</td>\n",
       "      <td>2020-03-19</td>\n",
       "      <td>2020-03-19</td>\n",
       "      <td>2020-03-19</td>\n",
       "      <td>40s</td>\n",
       "      <td>MALE</td>\n",
       "      <td>NO KNOWN EPI LINK</td>\n",
       "      <td>Resolved</td>\n",
       "      <td>NaN</td>\n",
       "      <td>3895</td>\n",
       "      <td>Toronto Public Health</td>\n",
       "      <td>277 Victoria Street, 5th Floor</td>\n",
       "      <td>Toronto</td>\n",
       "      <td>M5B 1W2</td>\n",
       "      <td>www.toronto.ca/community-people/health-wellnes...</td>\n",
       "      <td>43.656591</td>\n",
       "      <td>-79.379358</td>\n",
       "    </tr>\n",
       "    <tr>\n",
       "      <th>1</th>\n",
       "      <td>2</td>\n",
       "      <td>2020-03-16</td>\n",
       "      <td>2020-03-19</td>\n",
       "      <td>2020-03-19</td>\n",
       "      <td>2020-03-17</td>\n",
       "      <td>60s</td>\n",
       "      <td>FEMALE</td>\n",
       "      <td>TRAVEL</td>\n",
       "      <td>Resolved</td>\n",
       "      <td>NaN</td>\n",
       "      <td>3895</td>\n",
       "      <td>Toronto Public Health</td>\n",
       "      <td>277 Victoria Street, 5th Floor</td>\n",
       "      <td>Toronto</td>\n",
       "      <td>M5B 1W2</td>\n",
       "      <td>www.toronto.ca/community-people/health-wellnes...</td>\n",
       "      <td>43.656591</td>\n",
       "      <td>-79.379358</td>\n",
       "    </tr>\n",
       "    <tr>\n",
       "      <th>2</th>\n",
       "      <td>3</td>\n",
       "      <td>2020-03-14</td>\n",
       "      <td>2020-03-19</td>\n",
       "      <td>2020-03-18</td>\n",
       "      <td>2020-03-18</td>\n",
       "      <td>30s</td>\n",
       "      <td>FEMALE</td>\n",
       "      <td>TRAVEL</td>\n",
       "      <td>Resolved</td>\n",
       "      <td>NaN</td>\n",
       "      <td>3895</td>\n",
       "      <td>Toronto Public Health</td>\n",
       "      <td>277 Victoria Street, 5th Floor</td>\n",
       "      <td>Toronto</td>\n",
       "      <td>M5B 1W2</td>\n",
       "      <td>www.toronto.ca/community-people/health-wellnes...</td>\n",
       "      <td>43.656591</td>\n",
       "      <td>-79.379358</td>\n",
       "    </tr>\n",
       "    <tr>\n",
       "      <th>3</th>\n",
       "      <td>4</td>\n",
       "      <td>2020-03-15</td>\n",
       "      <td>2020-03-19</td>\n",
       "      <td>2020-03-19</td>\n",
       "      <td>2020-03-17</td>\n",
       "      <td>20s</td>\n",
       "      <td>FEMALE</td>\n",
       "      <td>TRAVEL</td>\n",
       "      <td>Resolved</td>\n",
       "      <td>NaN</td>\n",
       "      <td>3895</td>\n",
       "      <td>Toronto Public Health</td>\n",
       "      <td>277 Victoria Street, 5th Floor</td>\n",
       "      <td>Toronto</td>\n",
       "      <td>M5B 1W2</td>\n",
       "      <td>www.toronto.ca/community-people/health-wellnes...</td>\n",
       "      <td>43.656591</td>\n",
       "      <td>-79.379358</td>\n",
       "    </tr>\n",
       "    <tr>\n",
       "      <th>4</th>\n",
       "      <td>5</td>\n",
       "      <td>2020-03-19</td>\n",
       "      <td>2020-03-19</td>\n",
       "      <td>2020-03-20</td>\n",
       "      <td>2020-03-19</td>\n",
       "      <td>40s</td>\n",
       "      <td>MALE</td>\n",
       "      <td>CC</td>\n",
       "      <td>Resolved</td>\n",
       "      <td>NaN</td>\n",
       "      <td>3895</td>\n",
       "      <td>Toronto Public Health</td>\n",
       "      <td>277 Victoria Street, 5th Floor</td>\n",
       "      <td>Toronto</td>\n",
       "      <td>M5B 1W2</td>\n",
       "      <td>www.toronto.ca/community-people/health-wellnes...</td>\n",
       "      <td>43.656591</td>\n",
       "      <td>-79.379358</td>\n",
       "    </tr>\n",
       "  </tbody>\n",
       "</table>\n",
       "</div>"
      ],
      "text/plain": [
       "   row_id accurate_date reported_date   test_date specimen_date age_group  \\\n",
       "0       1    2020-03-18    2020-03-19  2020-03-19    2020-03-19       40s   \n",
       "1       2    2020-03-16    2020-03-19  2020-03-19    2020-03-17       60s   \n",
       "2       3    2020-03-14    2020-03-19  2020-03-18    2020-03-18       30s   \n",
       "3       4    2020-03-15    2020-03-19  2020-03-19    2020-03-17       20s   \n",
       "4       5    2020-03-19    2020-03-19  2020-03-20    2020-03-19       40s   \n",
       "\n",
       "   gender   acquisition_info   outcome outbreak_related  phu_id  \\\n",
       "0    MALE  NO KNOWN EPI LINK  Resolved              NaN    3895   \n",
       "1  FEMALE             TRAVEL  Resolved              NaN    3895   \n",
       "2  FEMALE             TRAVEL  Resolved              NaN    3895   \n",
       "3  FEMALE             TRAVEL  Resolved              NaN    3895   \n",
       "4    MALE                 CC  Resolved              NaN    3895   \n",
       "\n",
       "                phu_name                     phu_address phu_city  \\\n",
       "0  Toronto Public Health  277 Victoria Street, 5th Floor  Toronto   \n",
       "1  Toronto Public Health  277 Victoria Street, 5th Floor  Toronto   \n",
       "2  Toronto Public Health  277 Victoria Street, 5th Floor  Toronto   \n",
       "3  Toronto Public Health  277 Victoria Street, 5th Floor  Toronto   \n",
       "4  Toronto Public Health  277 Victoria Street, 5th Floor  Toronto   \n",
       "\n",
       "  phu_postal_code                                            phu_url  \\\n",
       "0         M5B 1W2  www.toronto.ca/community-people/health-wellnes...   \n",
       "1         M5B 1W2  www.toronto.ca/community-people/health-wellnes...   \n",
       "2         M5B 1W2  www.toronto.ca/community-people/health-wellnes...   \n",
       "3         M5B 1W2  www.toronto.ca/community-people/health-wellnes...   \n",
       "4         M5B 1W2  www.toronto.ca/community-people/health-wellnes...   \n",
       "\n",
       "     phu_lat   phu_long  \n",
       "0  43.656591 -79.379358  \n",
       "1  43.656591 -79.379358  \n",
       "2  43.656591 -79.379358  \n",
       "3  43.656591 -79.379358  \n",
       "4  43.656591 -79.379358  "
      ]
     },
     "execution_count": 4,
     "metadata": {},
     "output_type": "execute_result"
    }
   ],
   "source": [
    "df.columns = ['row_id', 'accurate_date', 'reported_date', 'test_date', 'specimen_date', 'age_group', 'gender', 'acquisition_info','outcome', 'outbreak_related', 'phu_id', 'phu_name', 'phu_address', 'phu_city', 'phu_postal_code', 'phu_url', 'phu_lat', 'phu_long']\n",
    "df.head()"
   ]
  },
  {
   "cell_type": "code",
   "execution_count": 5,
   "metadata": {},
   "outputs": [
    {
     "data": {
      "text/plain": [
       "256960"
      ]
     },
     "execution_count": 5,
     "metadata": {},
     "output_type": "execute_result"
    }
   ],
   "source": [
    "len(df)"
   ]
  },
  {
   "cell_type": "code",
   "execution_count": 6,
   "metadata": {
    "scrolled": false
   },
   "outputs": [
    {
     "data": {
      "text/plain": [
       "row_id                int64\n",
       "accurate_date        object\n",
       "reported_date        object\n",
       "test_date            object\n",
       "specimen_date        object\n",
       "age_group            object\n",
       "gender               object\n",
       "acquisition_info     object\n",
       "outcome              object\n",
       "outbreak_related     object\n",
       "phu_id                int64\n",
       "phu_name             object\n",
       "phu_address          object\n",
       "phu_city             object\n",
       "phu_postal_code      object\n",
       "phu_url              object\n",
       "phu_lat             float64\n",
       "phu_long            float64\n",
       "dtype: object"
      ]
     },
     "execution_count": 6,
     "metadata": {},
     "output_type": "execute_result"
    }
   ],
   "source": [
    "df.dtypes"
   ]
  },
  {
   "cell_type": "markdown",
   "metadata": {},
   "source": [
    "2. Check no missing phu names"
   ]
  },
  {
   "cell_type": "code",
   "execution_count": 7,
   "metadata": {
    "scrolled": true
   },
   "outputs": [
    {
     "data": {
      "text/plain": [
       "{'Algoma Public Health Unit',\n",
       " 'Brant County Health Unit',\n",
       " 'Chatham-Kent Health Unit',\n",
       " 'Durham Region Health Department',\n",
       " 'Eastern Ontario Health Unit',\n",
       " 'Grey Bruce Health Unit',\n",
       " 'Haldimand-Norfolk Health Unit',\n",
       " 'Haliburton, Kawartha, Pine Ridge District Health Unit',\n",
       " 'Halton Region Health Department',\n",
       " 'Hamilton Public Health Services',\n",
       " 'Hastings and Prince Edward Counties Health Unit',\n",
       " 'Huron Perth District Health Unit',\n",
       " 'Kingston, Frontenac and Lennox & Addington Public Health',\n",
       " 'Lambton Public Health',\n",
       " 'Leeds, Grenville and Lanark District Health Unit',\n",
       " 'Middlesex-London Health Unit',\n",
       " 'Niagara Region Public Health Department',\n",
       " 'North Bay Parry Sound District Health Unit',\n",
       " 'Northwestern Health Unit',\n",
       " 'Ottawa Public Health',\n",
       " 'Peel Public Health',\n",
       " 'Peterborough Public Health',\n",
       " 'Porcupine Health Unit',\n",
       " 'Region of Waterloo, Public Health',\n",
       " 'Renfrew County and District Health Unit',\n",
       " 'Simcoe Muskoka District Health Unit',\n",
       " 'Southwestern Public Health',\n",
       " 'Sudbury & District Health Unit',\n",
       " 'Thunder Bay District Health Unit',\n",
       " 'Timiskaming Health Unit',\n",
       " 'Toronto Public Health',\n",
       " 'Wellington-Dufferin-Guelph Public Health',\n",
       " 'Windsor-Essex County Health Unit',\n",
       " 'York Region Public Health Services'}"
      ]
     },
     "execution_count": 7,
     "metadata": {},
     "output_type": "execute_result"
    }
   ],
   "source": [
    "set(df.phu_name)"
   ]
  },
  {
   "cell_type": "markdown",
   "metadata": {},
   "source": [
    "3. Check addresses are valid"
   ]
  },
  {
   "cell_type": "code",
   "execution_count": 8,
   "metadata": {
    "scrolled": true
   },
   "outputs": [
    {
     "data": {
      "text/plain": [
       "{'100 Constellation Drive',\n",
       " '1000 Pitt Street',\n",
       " '1005 Ouellette Avenue',\n",
       " '101 17th Street East',\n",
       " '110 King St. West, 2nd Floor',\n",
       " '1151 Bronte Road',\n",
       " '12 Gilbertson Drive',\n",
       " '1230 Talbot Street',\n",
       " '1300 Paris Street',\n",
       " '15 Sperling Drive',\n",
       " '160 Chancellors Way',\n",
       " '160 Exmouth Street',\n",
       " '169 Pine Street South',\n",
       " '17250 Yonge Street',\n",
       " '179 North Park Street',\n",
       " '1815 Sir Isaac Brock Way',\n",
       " '185 King Street',\n",
       " '194 Terrace Hill Street',\n",
       " '200 Rose Glen Road',\n",
       " '210 First Street North ',\n",
       " '221 Portsmouth Avenue',\n",
       " '247 Whitewood Avenue, Unit 43',\n",
       " '277 Victoria Street, 5th Floor',\n",
       " '294 Willow Avenue',\n",
       " '345 Oak Street West',\n",
       " '435 Grand Avenue West',\n",
       " '458 Laurier Boulevard',\n",
       " '50 King Street',\n",
       " '605 Rossland Road East',\n",
       " '653 West Gore Street',\n",
       " '7 International Drive',\n",
       " '7120 Hurontario Street',\n",
       " '99 Regina Street South',\n",
       " '999 Balmoral Street'}"
      ]
     },
     "execution_count": 8,
     "metadata": {},
     "output_type": "execute_result"
    }
   ],
   "source": [
    "set(df.phu_address)"
   ]
  },
  {
   "cell_type": "markdown",
   "metadata": {},
   "source": [
    "4. Check no illegal values in city"
   ]
  },
  {
   "cell_type": "code",
   "execution_count": 9,
   "metadata": {
    "scrolled": true
   },
   "outputs": [
    {
     "data": {
      "text/plain": [
       "{'Barrie',\n",
       " 'Belleville',\n",
       " 'Brantford',\n",
       " 'Brockville',\n",
       " 'Chatham',\n",
       " 'Cornwall',\n",
       " 'Guelph',\n",
       " 'Hamilton',\n",
       " 'Kenora',\n",
       " 'Kingston',\n",
       " 'London',\n",
       " 'Mississauga',\n",
       " 'New Liskeard',\n",
       " 'Newmarket',\n",
       " 'North Bay',\n",
       " 'Oakville',\n",
       " 'Ottawa',\n",
       " 'Owen Sound',\n",
       " 'Pembroke',\n",
       " 'Peterborough',\n",
       " 'Point Edward',\n",
       " 'Port Hope',\n",
       " 'Sault Ste. Marie',\n",
       " 'Simcoe',\n",
       " 'St. Thomas',\n",
       " 'Stratford',\n",
       " 'Sudbury',\n",
       " 'Thorold',\n",
       " 'Thunder Bay',\n",
       " 'Timmins',\n",
       " 'Toronto',\n",
       " 'Waterloo',\n",
       " 'Whitby',\n",
       " 'Windsor'}"
      ]
     },
     "execution_count": 9,
     "metadata": {},
     "output_type": "execute_result"
    }
   ],
   "source": [
    "set(df.phu_city)"
   ]
  },
  {
   "cell_type": "markdown",
   "metadata": {},
   "source": [
    "4. Check postal code is valid"
   ]
  },
  {
   "cell_type": "code",
   "execution_count": 10,
   "metadata": {
    "scrolled": true
   },
   "outputs": [
    {
     "data": {
      "text/plain": [
       "{'K2G 6J8',\n",
       " 'K6J 5T1',\n",
       " 'K6V 7A3',\n",
       " 'K7M 1V5',\n",
       " 'K8A 6W5',\n",
       " 'K8P 4P1',\n",
       " 'K9J 2R8',\n",
       " 'L1A 3V6',\n",
       " 'L1N 0B2',\n",
       " 'L2V 4T7',\n",
       " 'L3Y 6Z1',\n",
       " 'L4M 6K9',\n",
       " 'L5W 1N4',\n",
       " 'L6M 3Ll',\n",
       " 'L8P 4S6',\n",
       " 'M5B 1W2',\n",
       " 'N1G 0E1',\n",
       " 'N2J 4V3',\n",
       " 'N3R 1G7',\n",
       " 'N3Y 4N5',\n",
       " 'N4K 0A5',\n",
       " 'N5A 1L4',\n",
       " 'N5P 1G9',\n",
       " 'N6A 5L7',\n",
       " 'N7M 5L8',\n",
       " 'N7T 7Z6',\n",
       " 'N9A 4J8',\n",
       " 'P0J 1P0',\n",
       " 'P1B 2T2',\n",
       " 'P3E 3A3',\n",
       " 'P4N 8B7',\n",
       " 'P6B 0A9',\n",
       " 'P7B 6E7',\n",
       " 'P9N 2K4'}"
      ]
     },
     "execution_count": 10,
     "metadata": {},
     "output_type": "execute_result"
    }
   ],
   "source": [
    "set(df.phu_postal_code)"
   ]
  },
  {
   "cell_type": "markdown",
   "metadata": {},
   "source": [
    "5. Check referential integrity for PHU attributes "
   ]
  },
  {
   "cell_type": "code",
   "execution_count": 11,
   "metadata": {},
   "outputs": [
    {
     "name": "stdout",
     "output_type": "stream",
     "text": [
      "phu_name <-> phu_id validated\n",
      "phu_name <-> phu_address validated\n",
      "phu_name <-> phu_city validated\n",
      "phu_name <-> phu_postal_code validated\n",
      "phu_name <-> phu_url validated\n",
      "phu_name <-> phu_lat validated\n",
      "phu_name <-> phu_long validated\n"
     ]
    }
   ],
   "source": [
    "# Group rows by phu name\n",
    "grouped_df = df.groupby(df.phu_name)\n",
    "\n",
    "# print('-----')\n",
    "# print(set(grouped_df.get_group('Toronto Public Health')[\"phu_city\"]))\n",
    "\n",
    "    \n",
    "def is_unique(attribute):\n",
    "    \"\"\"\n",
    "    Checks if attribute is unique for each group \n",
    "    :param: attribute (str): attribute to check for uniqueness\n",
    "    :return: None \n",
    "    \"\"\"\n",
    "    for phu in grouped_df.groups.keys():\n",
    "        if len(set(grouped_df.get_group(phu)[attribute])) != 1:\n",
    "            print(f\"{phu} has more than one {attribute}\")\n",
    "            return \n",
    "    \n",
    "    print(f\"phu_name <-> {attribute} validated\")    \n",
    "\n",
    "is_unique(\"phu_id\")\n",
    "is_unique(\"phu_address\")\n",
    "is_unique(\"phu_city\")\n",
    "is_unique(\"phu_postal_code\")\n",
    "is_unique(\"phu_url\")\n",
    "is_unique(\"phu_lat\")\n",
    "is_unique(\"phu_long\")"
   ]
  },
  {
   "cell_type": "markdown",
   "metadata": {},
   "source": [
    "Filter for all PHUs in GTA and Ottawa regions"
   ]
  },
  {
   "cell_type": "markdown",
   "metadata": {},
   "source": [
    "Filter out for these regions:\n",
    "GTA: 'Toronto', 'Mississauga', 'Newmarket', 'Oakville', 'Toronto', 'Whitby' \n",
    "'Ottawa'"
   ]
  },
  {
   "cell_type": "code",
   "execution_count": 12,
   "metadata": {},
   "outputs": [
    {
     "data": {
      "text/plain": [
       "['Mississauga', 'Newmarket', 'Oakville', 'Toronto', 'Whitby']"
      ]
     },
     "execution_count": 12,
     "metadata": {},
     "output_type": "execute_result"
    }
   ],
   "source": [
    "gta_cities = ['Ajax', 'Aurora', 'Brampton', 'Brock', 'Burlington', 'Caledon','Clarington', 'East Gwillimbury', 'Georgina', 'Halton Hills', 'King', 'Markham', 'Milton', 'Mississauga', 'Newmarket', 'Oakville', 'Oshawa', 'Pickering', 'Richmond Hill', 'Scugog', 'Toronto', 'Uxbridge', 'Vaughan', 'Whitby', 'Whitchurch-Stouffville']\n",
    "\n",
    "# Find out which cities are available in the dataset\n",
    "def find_gta_cities():\n",
    "    gta_cities_found = []\n",
    "    for city in gta_cities:\n",
    "        if city in set(df.phu_city):\n",
    "            gta_cities_found.append(city)\n",
    "        \n",
    "    return gta_cities_found\n",
    "        \n",
    "find_gta_cities()\n"
   ]
  },
  {
   "cell_type": "code",
   "execution_count": 58,
   "metadata": {},
   "outputs": [],
   "source": [
    "# Filter dataset for only GTA and ottawa\n",
    "gtao_df = df[(df.phu_city == 'Ottawa') | (df.phu_city == 'Toronto') | (df.phu_city == 'Mississauga') | (df.phu_city == 'Newmarket') | (df.phu_city == 'Oakville') | (df.phu_city == 'Whitby')]\n"
   ]
  },
  {
   "cell_type": "markdown",
   "metadata": {},
   "source": [
    "Add province attribute to all rows "
   ]
  },
  {
   "cell_type": "code",
   "execution_count": 61,
   "metadata": {},
   "outputs": [],
   "source": [
    "# Create PHU dimension \n",
    "PHU_location_dimension = pd.DataFrame(columns=['PHU_id', 'PHU_name', 'Address', 'City', \n",
    "                                               'Postal_code', 'Province', 'URL', 'Latitude', 'Longitude'])"
   ]
  },
  {
   "cell_type": "code",
   "execution_count": 62,
   "metadata": {},
   "outputs": [
    {
     "name": "stdout",
     "output_type": "stream",
     "text": [
      "256959 out of 256960 generated..."
     ]
    }
   ],
   "source": [
    "# Populate the dimension \n",
    "y = len(df)\n",
    "for idx, row in gtao_df.iterrows():\n",
    "    sys.stdout.write(\"\\r{0} out of {1} generated...\".format(idx,y))\n",
    "    phu_row = [row['phu_id']]\n",
    "    phu_row.append(row['phu_name'])\n",
    "    phu_row.append(row['phu_address'])\n",
    "    phu_row.append(row['phu_city'])\n",
    "    phu_row.append(row['phu_postal_code'])\n",
    "    phu_row.append(\"Ontario\")\n",
    "    phu_row.append(row['phu_url'])\n",
    "    phu_row.append(row['phu_lat'])\n",
    "    phu_row.append(row['phu_long'])\n",
    "\n",
    "    PHU_location_dimension.loc[len(PHU_location_dimension)] = phu_row\n",
    "\n"
   ]
  },
  {
   "cell_type": "markdown",
   "metadata": {},
   "source": [
    "Add surrogate keys"
   ]
  },
  {
   "cell_type": "code",
   "execution_count": 66,
   "metadata": {},
   "outputs": [
    {
     "data": {
      "text/plain": [
       "6"
      ]
     },
     "execution_count": 66,
     "metadata": {},
     "output_type": "execute_result"
    }
   ],
   "source": [
    "# Remove duplicates\n",
    "PHU_location_dimension = PHU_location_dimension.drop_duplicates(subset=['Latitude', 'Longitude'])\n",
    "PHU_location_dimension.insert(0, \"PHU_location_key\",  np.arange(len(PHU_location_dimension)))\n",
    "len(PHU_location_dimension)"
   ]
  },
  {
   "cell_type": "code",
   "execution_count": 74,
   "metadata": {},
   "outputs": [
    {
     "data": {
      "text/html": [
       "<div>\n",
       "<style scoped>\n",
       "    .dataframe tbody tr th:only-of-type {\n",
       "        vertical-align: middle;\n",
       "    }\n",
       "\n",
       "    .dataframe tbody tr th {\n",
       "        vertical-align: top;\n",
       "    }\n",
       "\n",
       "    .dataframe thead th {\n",
       "        text-align: right;\n",
       "    }\n",
       "</style>\n",
       "<table border=\"1\" class=\"dataframe\">\n",
       "  <thead>\n",
       "    <tr style=\"text-align: right;\">\n",
       "      <th></th>\n",
       "      <th>PHU_location_key</th>\n",
       "      <th>PHU_id</th>\n",
       "      <th>PHU_name</th>\n",
       "      <th>Address</th>\n",
       "      <th>City</th>\n",
       "      <th>Postal_code</th>\n",
       "      <th>Province</th>\n",
       "      <th>URL</th>\n",
       "      <th>Latitude</th>\n",
       "      <th>Longitude</th>\n",
       "    </tr>\n",
       "  </thead>\n",
       "  <tbody>\n",
       "    <tr>\n",
       "      <th>0</th>\n",
       "      <td>0</td>\n",
       "      <td>3895</td>\n",
       "      <td>Toronto Public Health</td>\n",
       "      <td>277 Victoria Street, 5th Floor</td>\n",
       "      <td>Toronto</td>\n",
       "      <td>M5B 1W2</td>\n",
       "      <td>Ontario</td>\n",
       "      <td>www.toronto.ca/community-people/health-wellnes...</td>\n",
       "      <td>43.656591</td>\n",
       "      <td>-79.379358</td>\n",
       "    </tr>\n",
       "    <tr>\n",
       "      <th>4211</th>\n",
       "      <td>1</td>\n",
       "      <td>2253</td>\n",
       "      <td>Peel Public Health</td>\n",
       "      <td>7120 Hurontario Street</td>\n",
       "      <td>Mississauga</td>\n",
       "      <td>L5W 1N4</td>\n",
       "      <td>Ontario</td>\n",
       "      <td>www.peelregion.ca/health/</td>\n",
       "      <td>43.647471</td>\n",
       "      <td>-79.708893</td>\n",
       "    </tr>\n",
       "    <tr>\n",
       "      <th>4217</th>\n",
       "      <td>2</td>\n",
       "      <td>2270</td>\n",
       "      <td>York Region Public Health Services</td>\n",
       "      <td>17250 Yonge Street</td>\n",
       "      <td>Newmarket</td>\n",
       "      <td>L3Y 6Z1</td>\n",
       "      <td>Ontario</td>\n",
       "      <td>www.york.ca/wps/portal/yorkhome/health/</td>\n",
       "      <td>44.048023</td>\n",
       "      <td>-79.480239</td>\n",
       "    </tr>\n",
       "    <tr>\n",
       "      <th>4221</th>\n",
       "      <td>3</td>\n",
       "      <td>2236</td>\n",
       "      <td>Halton Region Health Department</td>\n",
       "      <td>1151 Bronte Road</td>\n",
       "      <td>Oakville</td>\n",
       "      <td>L6M 3Ll</td>\n",
       "      <td>Ontario</td>\n",
       "      <td>www.halton.ca/For-Residents/Public-Health/</td>\n",
       "      <td>43.413997</td>\n",
       "      <td>-79.744796</td>\n",
       "    </tr>\n",
       "    <tr>\n",
       "      <th>4234</th>\n",
       "      <td>4</td>\n",
       "      <td>2230</td>\n",
       "      <td>Durham Region Health Department</td>\n",
       "      <td>605 Rossland Road East</td>\n",
       "      <td>Whitby</td>\n",
       "      <td>L1N 0B2</td>\n",
       "      <td>Ontario</td>\n",
       "      <td>www.durham.ca/en/health-and-wellness/health-an...</td>\n",
       "      <td>43.898605</td>\n",
       "      <td>-78.940341</td>\n",
       "    </tr>\n",
       "  </tbody>\n",
       "</table>\n",
       "</div>"
      ],
      "text/plain": [
       "      PHU_location_key PHU_id                            PHU_name  \\\n",
       "0                    0   3895               Toronto Public Health   \n",
       "4211                 1   2253                  Peel Public Health   \n",
       "4217                 2   2270  York Region Public Health Services   \n",
       "4221                 3   2236     Halton Region Health Department   \n",
       "4234                 4   2230     Durham Region Health Department   \n",
       "\n",
       "                             Address         City Postal_code Province  \\\n",
       "0     277 Victoria Street, 5th Floor      Toronto     M5B 1W2  Ontario   \n",
       "4211          7120 Hurontario Street  Mississauga     L5W 1N4  Ontario   \n",
       "4217              17250 Yonge Street    Newmarket     L3Y 6Z1  Ontario   \n",
       "4221                1151 Bronte Road     Oakville     L6M 3Ll  Ontario   \n",
       "4234          605 Rossland Road East       Whitby     L1N 0B2  Ontario   \n",
       "\n",
       "                                                    URL   Latitude  Longitude  \n",
       "0     www.toronto.ca/community-people/health-wellnes...  43.656591 -79.379358  \n",
       "4211                          www.peelregion.ca/health/  43.647471 -79.708893  \n",
       "4217           www.york.ca/wps/portal/yorkhome/health/   44.048023 -79.480239  \n",
       "4221        www.halton.ca/For-Residents/Public-Health/   43.413997 -79.744796  \n",
       "4234  www.durham.ca/en/health-and-wellness/health-an...  43.898605 -78.940341  "
      ]
     },
     "execution_count": 74,
     "metadata": {},
     "output_type": "execute_result"
    }
   ],
   "source": [
    "PHU_location_dimension.head()"
   ]
  },
  {
   "cell_type": "markdown",
   "metadata": {},
   "source": [
    "Export clean dimension to CSV"
   ]
  },
  {
   "cell_type": "code",
   "execution_count": 71,
   "metadata": {},
   "outputs": [],
   "source": [
    "PHU_location_dimension.to_csv(\"PHU_location_dimension.csv\",index=False)"
   ]
  }
 ],
 "metadata": {
  "kernelspec": {
   "display_name": "Python 3",
   "language": "python",
   "name": "python3"
  },
  "language_info": {
   "codemirror_mode": {
    "name": "ipython",
    "version": 3
   },
   "file_extension": ".py",
   "mimetype": "text/x-python",
   "name": "python",
   "nbconvert_exporter": "python",
   "pygments_lexer": "ipython3",
   "version": "3.8.5"
  }
 },
 "nbformat": 4,
 "nbformat_minor": 4
}
