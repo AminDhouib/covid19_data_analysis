{
 "cells": [
  {
   "cell_type": "code",
   "execution_count": 1,
   "metadata": {
    "executionInfo": {
     "elapsed": 499,
     "status": "ok",
     "timestamp": 1613594017396,
     "user": {
      "displayName": "Jared Alexander Lueck",
      "photoUrl": "",
      "userId": "09514970884337052351"
     },
     "user_tz": 300
    },
    "id": "_RCLu4vzoGq1"
   },
   "outputs": [],
   "source": [
    "import pandas as pd\n",
    "import numpy as np\n",
    "from datetime import datetime"
   ]
  },
  {
   "cell_type": "code",
   "execution_count": 2,
   "metadata": {
    "executionInfo": {
     "elapsed": 2138,
     "status": "ok",
     "timestamp": 1613592326375,
     "user": {
      "displayName": "Jared Alexander Lueck",
      "photoUrl": "",
      "userId": "09514970884337052351"
     },
     "user_tz": 300
    },
    "id": "WxpQZqcoqAGM"
   },
   "outputs": [],
   "source": [
    "data = pd.read_csv('data_sources/individual_cases_ontario.csv')"
   ]
  },
  {
   "cell_type": "code",
   "execution_count": 3,
   "metadata": {
    "colab": {
     "base_uri": "https://localhost:8080/",
     "height": 313
    },
    "executionInfo": {
     "elapsed": 538,
     "status": "ok",
     "timestamp": 1613589473565,
     "user": {
      "displayName": "Jared Alexander Lueck",
      "photoUrl": "",
      "userId": "09514970884337052351"
     },
     "user_tz": 300
    },
    "id": "5jl3cnujqYpl",
    "outputId": "4942b46a-8716-4343-86a7-ce3c2e205212"
   },
   "outputs": [
    {
     "data": {
      "text/html": [
       "<div>\n",
       "<style scoped>\n",
       "    .dataframe tbody tr th:only-of-type {\n",
       "        vertical-align: middle;\n",
       "    }\n",
       "\n",
       "    .dataframe tbody tr th {\n",
       "        vertical-align: top;\n",
       "    }\n",
       "\n",
       "    .dataframe thead th {\n",
       "        text-align: right;\n",
       "    }\n",
       "</style>\n",
       "<table border=\"1\" class=\"dataframe\">\n",
       "  <thead>\n",
       "    <tr style=\"text-align: right;\">\n",
       "      <th></th>\n",
       "      <th>Row_ID</th>\n",
       "      <th>Accurate_Episode_Date</th>\n",
       "      <th>Case_Reported_Date</th>\n",
       "      <th>Test_Reported_Date</th>\n",
       "      <th>Specimen_Date</th>\n",
       "      <th>Age_Group</th>\n",
       "      <th>Client_Gender</th>\n",
       "      <th>Case_AcquisitionInfo</th>\n",
       "      <th>Outcome1</th>\n",
       "      <th>Outbreak_Related</th>\n",
       "      <th>Reporting_PHU_ID</th>\n",
       "      <th>Reporting_PHU</th>\n",
       "      <th>Reporting_PHU_Address</th>\n",
       "      <th>Reporting_PHU_City</th>\n",
       "      <th>Reporting_PHU_Postal_Code</th>\n",
       "      <th>Reporting_PHU_Website</th>\n",
       "      <th>Reporting_PHU_Latitude</th>\n",
       "      <th>Reporting_PHU_Longitude</th>\n",
       "    </tr>\n",
       "  </thead>\n",
       "  <tbody>\n",
       "    <tr>\n",
       "      <th>0</th>\n",
       "      <td>1</td>\n",
       "      <td>2020-05-28</td>\n",
       "      <td>2020-06-03</td>\n",
       "      <td>2020-06-03</td>\n",
       "      <td>2020-06-02</td>\n",
       "      <td>40s</td>\n",
       "      <td>FEMALE</td>\n",
       "      <td>CC</td>\n",
       "      <td>Resolved</td>\n",
       "      <td>NaN</td>\n",
       "      <td>2253</td>\n",
       "      <td>Peel Public Health</td>\n",
       "      <td>7120 Hurontario Street</td>\n",
       "      <td>Mississauga</td>\n",
       "      <td>L5W 1N4</td>\n",
       "      <td>www.peelregion.ca/health/</td>\n",
       "      <td>43.647471</td>\n",
       "      <td>-79.708893</td>\n",
       "    </tr>\n",
       "    <tr>\n",
       "      <th>1</th>\n",
       "      <td>2</td>\n",
       "      <td>2020-05-24</td>\n",
       "      <td>2020-05-25</td>\n",
       "      <td>2020-05-25</td>\n",
       "      <td>2020-05-24</td>\n",
       "      <td>70s</td>\n",
       "      <td>MALE</td>\n",
       "      <td>CC</td>\n",
       "      <td>Resolved</td>\n",
       "      <td>NaN</td>\n",
       "      <td>2253</td>\n",
       "      <td>Peel Public Health</td>\n",
       "      <td>7120 Hurontario Street</td>\n",
       "      <td>Mississauga</td>\n",
       "      <td>L5W 1N4</td>\n",
       "      <td>www.peelregion.ca/health/</td>\n",
       "      <td>43.647471</td>\n",
       "      <td>-79.708893</td>\n",
       "    </tr>\n",
       "    <tr>\n",
       "      <th>2</th>\n",
       "      <td>3</td>\n",
       "      <td>2020-04-07</td>\n",
       "      <td>2020-04-14</td>\n",
       "      <td>2020-04-14</td>\n",
       "      <td>2020-04-12</td>\n",
       "      <td>40s</td>\n",
       "      <td>FEMALE</td>\n",
       "      <td>NO KNOWN EPI LINK</td>\n",
       "      <td>Resolved</td>\n",
       "      <td>NaN</td>\n",
       "      <td>2253</td>\n",
       "      <td>Peel Public Health</td>\n",
       "      <td>7120 Hurontario Street</td>\n",
       "      <td>Mississauga</td>\n",
       "      <td>L5W 1N4</td>\n",
       "      <td>www.peelregion.ca/health/</td>\n",
       "      <td>43.647471</td>\n",
       "      <td>-79.708893</td>\n",
       "    </tr>\n",
       "    <tr>\n",
       "      <th>3</th>\n",
       "      <td>4</td>\n",
       "      <td>2020-05-23</td>\n",
       "      <td>2020-05-29</td>\n",
       "      <td>2020-05-29</td>\n",
       "      <td>2020-05-28</td>\n",
       "      <td>50s</td>\n",
       "      <td>FEMALE</td>\n",
       "      <td>NO KNOWN EPI LINK</td>\n",
       "      <td>Resolved</td>\n",
       "      <td>NaN</td>\n",
       "      <td>2253</td>\n",
       "      <td>Peel Public Health</td>\n",
       "      <td>7120 Hurontario Street</td>\n",
       "      <td>Mississauga</td>\n",
       "      <td>L5W 1N4</td>\n",
       "      <td>www.peelregion.ca/health/</td>\n",
       "      <td>43.647471</td>\n",
       "      <td>-79.708893</td>\n",
       "    </tr>\n",
       "    <tr>\n",
       "      <th>4</th>\n",
       "      <td>5</td>\n",
       "      <td>2020-04-30</td>\n",
       "      <td>2020-05-05</td>\n",
       "      <td>2020-05-03</td>\n",
       "      <td>2020-05-02</td>\n",
       "      <td>70s</td>\n",
       "      <td>MALE</td>\n",
       "      <td>OB</td>\n",
       "      <td>Fatal</td>\n",
       "      <td>Yes</td>\n",
       "      <td>2253</td>\n",
       "      <td>Peel Public Health</td>\n",
       "      <td>7120 Hurontario Street</td>\n",
       "      <td>Mississauga</td>\n",
       "      <td>L5W 1N4</td>\n",
       "      <td>www.peelregion.ca/health/</td>\n",
       "      <td>43.647471</td>\n",
       "      <td>-79.708893</td>\n",
       "    </tr>\n",
       "  </tbody>\n",
       "</table>\n",
       "</div>"
      ],
      "text/plain": [
       "   Row_ID Accurate_Episode_Date Case_Reported_Date Test_Reported_Date  \\\n",
       "0       1            2020-05-28         2020-06-03         2020-06-03   \n",
       "1       2            2020-05-24         2020-05-25         2020-05-25   \n",
       "2       3            2020-04-07         2020-04-14         2020-04-14   \n",
       "3       4            2020-05-23         2020-05-29         2020-05-29   \n",
       "4       5            2020-04-30         2020-05-05         2020-05-03   \n",
       "\n",
       "  Specimen_Date Age_Group Client_Gender Case_AcquisitionInfo  Outcome1  \\\n",
       "0    2020-06-02       40s        FEMALE                   CC  Resolved   \n",
       "1    2020-05-24       70s          MALE                   CC  Resolved   \n",
       "2    2020-04-12       40s        FEMALE    NO KNOWN EPI LINK  Resolved   \n",
       "3    2020-05-28       50s        FEMALE    NO KNOWN EPI LINK  Resolved   \n",
       "4    2020-05-02       70s          MALE                   OB     Fatal   \n",
       "\n",
       "  Outbreak_Related  Reporting_PHU_ID       Reporting_PHU  \\\n",
       "0              NaN              2253  Peel Public Health   \n",
       "1              NaN              2253  Peel Public Health   \n",
       "2              NaN              2253  Peel Public Health   \n",
       "3              NaN              2253  Peel Public Health   \n",
       "4              Yes              2253  Peel Public Health   \n",
       "\n",
       "    Reporting_PHU_Address Reporting_PHU_City Reporting_PHU_Postal_Code  \\\n",
       "0  7120 Hurontario Street        Mississauga                   L5W 1N4   \n",
       "1  7120 Hurontario Street        Mississauga                   L5W 1N4   \n",
       "2  7120 Hurontario Street        Mississauga                   L5W 1N4   \n",
       "3  7120 Hurontario Street        Mississauga                   L5W 1N4   \n",
       "4  7120 Hurontario Street        Mississauga                   L5W 1N4   \n",
       "\n",
       "       Reporting_PHU_Website  Reporting_PHU_Latitude  Reporting_PHU_Longitude  \n",
       "0  www.peelregion.ca/health/               43.647471               -79.708893  \n",
       "1  www.peelregion.ca/health/               43.647471               -79.708893  \n",
       "2  www.peelregion.ca/health/               43.647471               -79.708893  \n",
       "3  www.peelregion.ca/health/               43.647471               -79.708893  \n",
       "4  www.peelregion.ca/health/               43.647471               -79.708893  "
      ]
     },
     "execution_count": 3,
     "metadata": {},
     "output_type": "execute_result"
    }
   ],
   "source": [
    "data.head()"
   ]
  },
  {
   "cell_type": "code",
   "execution_count": 4,
   "metadata": {},
   "outputs": [
    {
     "data": {
      "text/plain": [
       "array(['40s', '70s', '50s', '60s', '30s', '80s', '20s', '<20', '90+',\n",
       "       'UNKNOWN'], dtype=object)"
      ]
     },
     "execution_count": 4,
     "metadata": {},
     "output_type": "execute_result"
    }
   ],
   "source": [
    "data[\"Age_Group\"].unique()"
   ]
  },
  {
   "cell_type": "code",
   "execution_count": 5,
   "metadata": {
    "colab": {
     "base_uri": "https://localhost:8080/"
    },
    "executionInfo": {
     "elapsed": 368,
     "status": "ok",
     "timestamp": 1613577288087,
     "user": {
      "displayName": "Jared Alexander Lueck",
      "photoUrl": "",
      "userId": "09514970884337052351"
     },
     "user_tz": 300
    },
    "id": "O_jE_fqBq2RP",
    "outputId": "6f3e4728-b586-44f2-d511-b0b7f821c703"
   },
   "outputs": [
    {
     "name": "stdout",
     "output_type": "stream",
     "text": [
      "20s        60974\n",
      "30s        46267\n",
      "50s        43153\n",
      "40s        41580\n",
      "<20        38747\n",
      "60s        27547\n",
      "70s        14739\n",
      "80s        12501\n",
      "90+         7518\n",
      "UNKNOWN       60\n",
      "Name: Age_Group, dtype: int64\n"
     ]
    }
   ],
   "source": [
    "print(data[\"Age_Group\"].value_counts(dropna=False))"
   ]
  },
  {
   "cell_type": "code",
   "execution_count": 6,
   "metadata": {
    "colab": {
     "base_uri": "https://localhost:8080/"
    },
    "executionInfo": {
     "elapsed": 347,
     "status": "ok",
     "timestamp": 1613591365233,
     "user": {
      "displayName": "Jared Alexander Lueck",
      "photoUrl": "",
      "userId": "09514970884337052351"
     },
     "user_tz": 300
    },
    "id": "-UmZyjbot328",
    "outputId": "cd2cf059-19a9-411f-dd31-7d725d53fd2f"
   },
   "outputs": [
    {
     "name": "stdout",
     "output_type": "stream",
     "text": [
      "20s    60974\n",
      "30s    46267\n",
      "50s    43153\n",
      "40s    41580\n",
      "<20    38747\n",
      "60s    27547\n",
      "70s    14739\n",
      "80s    12501\n",
      "90+     7518\n",
      "Name: Age_Group, dtype: int64\n"
     ]
    }
   ],
   "source": [
    "# drop rows that have missing or unkown age as there are <50 of them\n",
    "data = data[data['Age_Group'].notna() & (data['Age_Group'] != \"UNKNOWN\")]\n",
    "\n",
    "print(data[\"Age_Group\"].value_counts(dropna=False))"
   ]
  },
  {
   "cell_type": "code",
   "execution_count": 7,
   "metadata": {},
   "outputs": [
    {
     "data": {
      "text/plain": [
       "array(['Peel Public Health', 'Halton Region Health Department',\n",
       "       'Grey Bruce Health Unit',\n",
       "       'Kingston, Frontenac and Lennox & Addington Public Health',\n",
       "       'Wellington-Dufferin-Guelph Public Health',\n",
       "       'Toronto Public Health', 'Hamilton Public Health Services',\n",
       "       'Niagara Region Public Health Department',\n",
       "       'Region of Waterloo, Public Health',\n",
       "       'York Region Public Health Services',\n",
       "       'Simcoe Muskoka District Health Unit',\n",
       "       'Durham Region Health Department',\n",
       "       'Haliburton, Kawartha, Pine Ridge District Health Unit',\n",
       "       'Porcupine Health Unit', 'Thunder Bay District Health Unit',\n",
       "       'North Bay Parry Sound District Health Unit',\n",
       "       'Lambton Public Health', 'Renfrew County and District Health Unit',\n",
       "       'Middlesex-London Health Unit', 'Ottawa Public Health',\n",
       "       'Haldimand-Norfolk Health Unit', 'Eastern Ontario Health Unit',\n",
       "       'Windsor-Essex County Health Unit', 'Southwestern Public Health',\n",
       "       'Peterborough Public Health', 'Northwestern Health Unit',\n",
       "       'Huron Perth District Health Unit',\n",
       "       'Leeds, Grenville and Lanark District Health Unit',\n",
       "       'Hastings and Prince Edward Counties Health Unit',\n",
       "       'Brant County Health Unit', 'Timiskaming Health Unit',\n",
       "       'Sudbury & District Health Unit', 'Chatham-Kent Health Unit',\n",
       "       'Algoma Public Health Unit'], dtype=object)"
      ]
     },
     "execution_count": 7,
     "metadata": {},
     "output_type": "execute_result"
    }
   ],
   "source": [
    "data[\"Reporting_PHU\"].unique()"
   ]
  },
  {
   "cell_type": "code",
   "execution_count": 8,
   "metadata": {
    "colab": {
     "base_uri": "https://localhost:8080/",
     "height": 436
    },
    "executionInfo": {
     "elapsed": 2659,
     "status": "error",
     "timestamp": 1613594117845,
     "user": {
      "displayName": "Jared Alexander Lueck",
      "photoUrl": "",
      "userId": "09514970884337052351"
     },
     "user_tz": 300
    },
    "id": "VRVyDHmZfi8X",
    "outputId": "fd98a027-7999-4322-8d91-f8e7518df53b"
   },
   "outputs": [
    {
     "name": "stdout",
     "output_type": "stream",
     "text": [
      "2020-10-06 00:00:00 2021-02-06 00:00:00\n"
     ]
    }
   ],
   "source": [
    "data[\"Case_Reported_Date\"] = pd.to_datetime(data[\"Case_Reported_Date\"], format=\"%Y-%m-%d\" )\n",
    "\n",
    "city_mask = ((data[\"Reporting_PHU\"] == \"Ottawa Public Health\") \\\n",
    "             | (data[\"Reporting_PHU\"] == \"Toronto Public Health\") \\\n",
    "             | (data[\"Reporting_PHU\"] == \"Peel Public Health\") \\\n",
    "             | (data[\"Reporting_PHU\"] == \"York Region Public Health Services\") \\\n",
    "             | (data[\"Reporting_PHU\"] == \"Durham Region Health Department\") \\\n",
    "             | (data[\"Reporting_PHU\"] == \"Halton Region Health Department\"))\n",
    "\n",
    "start_date = datetime.strptime(\"2020-10-06\", \"%Y-%m-%d\")\n",
    "end_date = datetime.strptime(\"2021-02-06\", \"%Y-%m-%d\")\n",
    "\n",
    "four_month_mask = (start_date <= data[\"Case_Reported_Date\"]) & (data[\"Case_Reported_Date\"] <= end_date)\n",
    "\n",
    "# Only tests for last 4 months and only Ottawa and Toronto\n",
    "data_subset = data.loc[city_mask & four_month_mask]\n",
    "\n",
    "print(data_subset['Case_Reported_Date'].min(), data_subset['Case_Reported_Date'].max())\n",
    "\n",
    "# We can just use this subset instead of original csv\n",
    "data_subset.to_csv(\"dimensions/data_subset.csv\", index=False)\n",
    "\n",
    "patients = data[[\"Age_Group\", \"Case_AcquisitionInfo\", \"Outbreak_Related\", \"Client_Gender\"]]\n"
   ]
  },
  {
   "cell_type": "code",
   "execution_count": 9,
   "metadata": {},
   "outputs": [
    {
     "data": {
      "text/html": [
       "<div>\n",
       "<style scoped>\n",
       "    .dataframe tbody tr th:only-of-type {\n",
       "        vertical-align: middle;\n",
       "    }\n",
       "\n",
       "    .dataframe tbody tr th {\n",
       "        vertical-align: top;\n",
       "    }\n",
       "\n",
       "    .dataframe thead th {\n",
       "        text-align: right;\n",
       "    }\n",
       "</style>\n",
       "<table border=\"1\" class=\"dataframe\">\n",
       "  <thead>\n",
       "    <tr style=\"text-align: right;\">\n",
       "      <th></th>\n",
       "      <th>Age_Group</th>\n",
       "      <th>Case_AcquisitionInfo</th>\n",
       "      <th>Outbreak_Related</th>\n",
       "      <th>Client_Gender</th>\n",
       "    </tr>\n",
       "  </thead>\n",
       "  <tbody>\n",
       "    <tr>\n",
       "      <th>0</th>\n",
       "      <td>40s</td>\n",
       "      <td>CC</td>\n",
       "      <td>NaN</td>\n",
       "      <td>FEMALE</td>\n",
       "    </tr>\n",
       "    <tr>\n",
       "      <th>1</th>\n",
       "      <td>70s</td>\n",
       "      <td>CC</td>\n",
       "      <td>NaN</td>\n",
       "      <td>MALE</td>\n",
       "    </tr>\n",
       "    <tr>\n",
       "      <th>2</th>\n",
       "      <td>40s</td>\n",
       "      <td>NO KNOWN EPI LINK</td>\n",
       "      <td>NaN</td>\n",
       "      <td>FEMALE</td>\n",
       "    </tr>\n",
       "    <tr>\n",
       "      <th>3</th>\n",
       "      <td>50s</td>\n",
       "      <td>NO KNOWN EPI LINK</td>\n",
       "      <td>NaN</td>\n",
       "      <td>FEMALE</td>\n",
       "    </tr>\n",
       "    <tr>\n",
       "      <th>4</th>\n",
       "      <td>70s</td>\n",
       "      <td>OB</td>\n",
       "      <td>Yes</td>\n",
       "      <td>MALE</td>\n",
       "    </tr>\n",
       "  </tbody>\n",
       "</table>\n",
       "</div>"
      ],
      "text/plain": [
       "  Age_Group Case_AcquisitionInfo Outbreak_Related Client_Gender\n",
       "0       40s                   CC              NaN        FEMALE\n",
       "1       70s                   CC              NaN          MALE\n",
       "2       40s    NO KNOWN EPI LINK              NaN        FEMALE\n",
       "3       50s    NO KNOWN EPI LINK              NaN        FEMALE\n",
       "4       70s                   OB              Yes          MALE"
      ]
     },
     "execution_count": 9,
     "metadata": {},
     "output_type": "execute_result"
    }
   ],
   "source": [
    "patients.head()"
   ]
  },
  {
   "cell_type": "code",
   "execution_count": 10,
   "metadata": {
    "scrolled": true
   },
   "outputs": [
    {
     "name": "stdout",
     "output_type": "stream",
     "text": [
      "['CC' 'NO KNOWN EPI LINK' 'OB' 'TRAVEL' 'MISSING INFORMATION'\n",
      " 'UNSPECIFIED EPI LINK']\n",
      "[nan 'Yes']\n",
      "['FEMALE' 'MALE' 'GENDER DIVERSE' 'UNSPECIFIED']\n",
      "['40s' '70s' '50s' '60s' '30s' '80s' '20s' '<20' '90+']\n"
     ]
    }
   ],
   "source": [
    "acquisition_values = patients.Case_AcquisitionInfo.unique()\n",
    "\n",
    "outbreak_related_values = patients.Outbreak_Related.unique()\n",
    "\n",
    "gender_values = patients.Client_Gender.unique()\n",
    "\n",
    "age_group_values = patients.Age_Group.unique()\n",
    "\n",
    "print(acquisition_values)\n",
    "\n",
    "print(outbreak_related_values)\n",
    "\n",
    "print(gender_values)\n",
    "\n",
    "print(age_group_values)"
   ]
  },
  {
   "cell_type": "code",
   "execution_count": 11,
   "metadata": {},
   "outputs": [],
   "source": [
    "# #There is only yes or NaN for outbreak related, so just replace NaN with 'No'\n",
    "# patients[\"Outbreak_Related\"].fillna(\"No\", inplace=True)\n",
    "\n",
    "# patients.head()"
   ]
  },
  {
   "cell_type": "code",
   "execution_count": 12,
   "metadata": {},
   "outputs": [],
   "source": [
    "rows = []\n",
    "\n",
    "import itertools\n",
    "\n",
    "for combo in itertools.product(acquisition_values, outbreak_related_values, gender_values, age_group_values):\n",
    "    rows.append(combo)\n",
    "\n",
    "patient_dimension = pd.DataFrame(rows, columns=[\"acquisition_group\", \"outbreak_related\", \"gender\", \"age_group\"])\n",
    "\n",
    "patient_dimension.insert(0, \"patient_key\", np.arange(len(patient_dimension.index)))"
   ]
  },
  {
   "cell_type": "code",
   "execution_count": 13,
   "metadata": {},
   "outputs": [
    {
     "data": {
      "text/html": [
       "<div>\n",
       "<style scoped>\n",
       "    .dataframe tbody tr th:only-of-type {\n",
       "        vertical-align: middle;\n",
       "    }\n",
       "\n",
       "    .dataframe tbody tr th {\n",
       "        vertical-align: top;\n",
       "    }\n",
       "\n",
       "    .dataframe thead th {\n",
       "        text-align: right;\n",
       "    }\n",
       "</style>\n",
       "<table border=\"1\" class=\"dataframe\">\n",
       "  <thead>\n",
       "    <tr style=\"text-align: right;\">\n",
       "      <th></th>\n",
       "      <th>patient_key</th>\n",
       "      <th>acquisition_group</th>\n",
       "      <th>outbreak_related</th>\n",
       "      <th>gender</th>\n",
       "      <th>age_group</th>\n",
       "    </tr>\n",
       "  </thead>\n",
       "  <tbody>\n",
       "    <tr>\n",
       "      <th>427</th>\n",
       "      <td>427</td>\n",
       "      <td>UNSPECIFIED EPI LINK</td>\n",
       "      <td>Yes</td>\n",
       "      <td>UNSPECIFIED</td>\n",
       "      <td>30s</td>\n",
       "    </tr>\n",
       "    <tr>\n",
       "      <th>428</th>\n",
       "      <td>428</td>\n",
       "      <td>UNSPECIFIED EPI LINK</td>\n",
       "      <td>Yes</td>\n",
       "      <td>UNSPECIFIED</td>\n",
       "      <td>80s</td>\n",
       "    </tr>\n",
       "    <tr>\n",
       "      <th>429</th>\n",
       "      <td>429</td>\n",
       "      <td>UNSPECIFIED EPI LINK</td>\n",
       "      <td>Yes</td>\n",
       "      <td>UNSPECIFIED</td>\n",
       "      <td>20s</td>\n",
       "    </tr>\n",
       "    <tr>\n",
       "      <th>430</th>\n",
       "      <td>430</td>\n",
       "      <td>UNSPECIFIED EPI LINK</td>\n",
       "      <td>Yes</td>\n",
       "      <td>UNSPECIFIED</td>\n",
       "      <td>&lt;20</td>\n",
       "    </tr>\n",
       "    <tr>\n",
       "      <th>431</th>\n",
       "      <td>431</td>\n",
       "      <td>UNSPECIFIED EPI LINK</td>\n",
       "      <td>Yes</td>\n",
       "      <td>UNSPECIFIED</td>\n",
       "      <td>90+</td>\n",
       "    </tr>\n",
       "  </tbody>\n",
       "</table>\n",
       "</div>"
      ],
      "text/plain": [
       "     patient_key     acquisition_group outbreak_related       gender age_group\n",
       "427          427  UNSPECIFIED EPI LINK              Yes  UNSPECIFIED       30s\n",
       "428          428  UNSPECIFIED EPI LINK              Yes  UNSPECIFIED       80s\n",
       "429          429  UNSPECIFIED EPI LINK              Yes  UNSPECIFIED       20s\n",
       "430          430  UNSPECIFIED EPI LINK              Yes  UNSPECIFIED       <20\n",
       "431          431  UNSPECIFIED EPI LINK              Yes  UNSPECIFIED       90+"
      ]
     },
     "execution_count": 13,
     "metadata": {},
     "output_type": "execute_result"
    }
   ],
   "source": [
    "patient_dimension.tail()"
   ]
  },
  {
   "cell_type": "code",
   "execution_count": 14,
   "metadata": {},
   "outputs": [],
   "source": [
    "# Fill outbreak related nan values with no \n",
    "patient_dimension['outbreak_related'].fillna('No', inplace=True)"
   ]
  },
  {
   "cell_type": "code",
   "execution_count": 15,
   "metadata": {},
   "outputs": [],
   "source": [
    "patient_dimension.to_csv(\"dimensions/patient_dimension.csv\", index=False)"
   ]
  }
 ],
 "metadata": {
  "colab": {
   "name": "Jared data staging.ipynb",
   "provenance": []
  },
  "kernelspec": {
   "display_name": "Python 3",
   "language": "python",
   "name": "python3"
  },
  "language_info": {
   "codemirror_mode": {
    "name": "ipython",
    "version": 3
   },
   "file_extension": ".py",
   "mimetype": "text/x-python",
   "name": "python",
   "nbconvert_exporter": "python",
   "pygments_lexer": "ipython3",
   "version": "3.8.5"
  }
 },
 "nbformat": 4,
 "nbformat_minor": 1
}
