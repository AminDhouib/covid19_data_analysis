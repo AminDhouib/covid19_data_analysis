{
 "cells": [
  {
   "cell_type": "code",
   "execution_count": 34,
   "metadata": {},
   "outputs": [],
   "source": [
    "import pandas as pd "
   ]
  },
  {
   "cell_type": "code",
   "execution_count": 35,
   "metadata": {},
   "outputs": [],
   "source": [
    "date_df = pd.read_csv('dimensions/date_dimension.csv')\n",
    "fact_table = pd.read_csv('dimensions/fact_table_m.csv')"
   ]
  },
  {
   "cell_type": "code",
   "execution_count": 36,
   "metadata": {},
   "outputs": [
    {
     "data": {
      "text/html": [
       "<div>\n",
       "<style scoped>\n",
       "    .dataframe tbody tr th:only-of-type {\n",
       "        vertical-align: middle;\n",
       "    }\n",
       "\n",
       "    .dataframe tbody tr th {\n",
       "        vertical-align: top;\n",
       "    }\n",
       "\n",
       "    .dataframe thead th {\n",
       "        text-align: right;\n",
       "    }\n",
       "</style>\n",
       "<table border=\"1\" class=\"dataframe\">\n",
       "  <thead>\n",
       "    <tr style=\"text-align: right;\">\n",
       "      <th></th>\n",
       "      <th>Onset_date_ID</th>\n",
       "      <th>Reported_date_ID</th>\n",
       "      <th>Test_date_ID</th>\n",
       "      <th>Specimen_date_ID</th>\n",
       "      <th>Patient_ID</th>\n",
       "      <th>PHU_Location_ID</th>\n",
       "      <th>Mobility_ID</th>\n",
       "      <th>Special_Measures_ID</th>\n",
       "      <th>Weather_ID</th>\n",
       "      <th>num_resolved</th>\n",
       "      <th>num_unresolved</th>\n",
       "      <th>num_fatal</th>\n",
       "    </tr>\n",
       "  </thead>\n",
       "  <tbody>\n",
       "    <tr>\n",
       "      <th>0</th>\n",
       "      <td>20200105</td>\n",
       "      <td>20210106</td>\n",
       "      <td>20210106</td>\n",
       "      <td>20210105</td>\n",
       "      <td>184</td>\n",
       "      <td>3895</td>\n",
       "      <td>-1</td>\n",
       "      <td>12</td>\n",
       "      <td>-1</td>\n",
       "      <td>1</td>\n",
       "      <td>0</td>\n",
       "      <td>0</td>\n",
       "    </tr>\n",
       "    <tr>\n",
       "      <th>1</th>\n",
       "      <td>20200109</td>\n",
       "      <td>20210110</td>\n",
       "      <td>20210110</td>\n",
       "      <td>20200109</td>\n",
       "      <td>6</td>\n",
       "      <td>2270</td>\n",
       "      <td>-1</td>\n",
       "      <td>12</td>\n",
       "      <td>-1</td>\n",
       "      <td>1</td>\n",
       "      <td>0</td>\n",
       "      <td>0</td>\n",
       "    </tr>\n",
       "    <tr>\n",
       "      <th>2</th>\n",
       "      <td>20200112</td>\n",
       "      <td>20210113</td>\n",
       "      <td>20210113</td>\n",
       "      <td>20210112</td>\n",
       "      <td>190</td>\n",
       "      <td>2251</td>\n",
       "      <td>-1</td>\n",
       "      <td>12</td>\n",
       "      <td>-1</td>\n",
       "      <td>1</td>\n",
       "      <td>0</td>\n",
       "      <td>0</td>\n",
       "    </tr>\n",
       "    <tr>\n",
       "      <th>3</th>\n",
       "      <td>20200121</td>\n",
       "      <td>20210128</td>\n",
       "      <td>20210128</td>\n",
       "      <td>20210121</td>\n",
       "      <td>303</td>\n",
       "      <td>3895</td>\n",
       "      <td>-1</td>\n",
       "      <td>12</td>\n",
       "      <td>-1</td>\n",
       "      <td>1</td>\n",
       "      <td>0</td>\n",
       "      <td>0</td>\n",
       "    </tr>\n",
       "    <tr>\n",
       "      <th>4</th>\n",
       "      <td>20200122</td>\n",
       "      <td>20201024</td>\n",
       "      <td>20201024</td>\n",
       "      <td>20200122</td>\n",
       "      <td>78</td>\n",
       "      <td>3895</td>\n",
       "      <td>-1</td>\n",
       "      <td>1</td>\n",
       "      <td>-1</td>\n",
       "      <td>1</td>\n",
       "      <td>0</td>\n",
       "      <td>0</td>\n",
       "    </tr>\n",
       "  </tbody>\n",
       "</table>\n",
       "</div>"
      ],
      "text/plain": [
       "   Onset_date_ID  Reported_date_ID  Test_date_ID  Specimen_date_ID  \\\n",
       "0       20200105          20210106      20210106          20210105   \n",
       "1       20200109          20210110      20210110          20200109   \n",
       "2       20200112          20210113      20210113          20210112   \n",
       "3       20200121          20210128      20210128          20210121   \n",
       "4       20200122          20201024      20201024          20200122   \n",
       "\n",
       "   Patient_ID  PHU_Location_ID  Mobility_ID  Special_Measures_ID  Weather_ID  \\\n",
       "0         184             3895           -1                   12          -1   \n",
       "1           6             2270           -1                   12          -1   \n",
       "2         190             2251           -1                   12          -1   \n",
       "3         303             3895           -1                   12          -1   \n",
       "4          78             3895           -1                    1          -1   \n",
       "\n",
       "   num_resolved  num_unresolved  num_fatal  \n",
       "0             1               0          0  \n",
       "1             1               0          0  \n",
       "2             1               0          0  \n",
       "3             1               0          0  \n",
       "4             1               0          0  "
      ]
     },
     "execution_count": 36,
     "metadata": {},
     "output_type": "execute_result"
    }
   ],
   "source": [
    "fact_table.head()"
   ]
  },
  {
   "cell_type": "code",
   "execution_count": 37,
   "metadata": {},
   "outputs": [
    {
     "data": {
      "text/html": [
       "<div>\n",
       "<style scoped>\n",
       "    .dataframe tbody tr th:only-of-type {\n",
       "        vertical-align: middle;\n",
       "    }\n",
       "\n",
       "    .dataframe tbody tr th {\n",
       "        vertical-align: top;\n",
       "    }\n",
       "\n",
       "    .dataframe thead th {\n",
       "        text-align: right;\n",
       "    }\n",
       "</style>\n",
       "<table border=\"1\" class=\"dataframe\">\n",
       "  <thead>\n",
       "    <tr style=\"text-align: right;\">\n",
       "      <th></th>\n",
       "      <th>date_key</th>\n",
       "      <th>date</th>\n",
       "      <th>date_id</th>\n",
       "      <th>day_name</th>\n",
       "      <th>day_name_abbrev</th>\n",
       "      <th>day_of_month</th>\n",
       "      <th>day_of_week</th>\n",
       "      <th>day_of_year</th>\n",
       "      <th>holiday_name</th>\n",
       "      <th>is_holiday</th>\n",
       "      <th>...</th>\n",
       "      <th>quarter_short_name</th>\n",
       "      <th>season</th>\n",
       "      <th>week_begin_date</th>\n",
       "      <th>week_begin_date_id</th>\n",
       "      <th>week_num_in_month</th>\n",
       "      <th>week_num_in_year</th>\n",
       "      <th>year</th>\n",
       "      <th>year_and_month</th>\n",
       "      <th>year_and_month_abbrev</th>\n",
       "      <th>year_and_quarter</th>\n",
       "    </tr>\n",
       "  </thead>\n",
       "  <tbody>\n",
       "    <tr>\n",
       "      <th>0</th>\n",
       "      <td>0</td>\n",
       "      <td>2020-01-01</td>\n",
       "      <td>20200101</td>\n",
       "      <td>Wednesday</td>\n",
       "      <td>Wed</td>\n",
       "      <td>1</td>\n",
       "      <td>4</td>\n",
       "      <td>1</td>\n",
       "      <td>New Year's Day</td>\n",
       "      <td>True</td>\n",
       "      <td>...</td>\n",
       "      <td>Q1</td>\n",
       "      <td>Winter</td>\n",
       "      <td>2019-12-28</td>\n",
       "      <td>20191228</td>\n",
       "      <td>1</td>\n",
       "      <td>1</td>\n",
       "      <td>2020</td>\n",
       "      <td>2020/01</td>\n",
       "      <td>2020/Jan</td>\n",
       "      <td>2020/Q1</td>\n",
       "    </tr>\n",
       "    <tr>\n",
       "      <th>1</th>\n",
       "      <td>1</td>\n",
       "      <td>2020-01-02</td>\n",
       "      <td>20200102</td>\n",
       "      <td>Thursday</td>\n",
       "      <td>Thu</td>\n",
       "      <td>2</td>\n",
       "      <td>5</td>\n",
       "      <td>2</td>\n",
       "      <td>NoHoliday</td>\n",
       "      <td>False</td>\n",
       "      <td>...</td>\n",
       "      <td>Q1</td>\n",
       "      <td>Winter</td>\n",
       "      <td>2019-12-28</td>\n",
       "      <td>20191228</td>\n",
       "      <td>1</td>\n",
       "      <td>1</td>\n",
       "      <td>2020</td>\n",
       "      <td>2020/01</td>\n",
       "      <td>2020/Jan</td>\n",
       "      <td>2020/Q1</td>\n",
       "    </tr>\n",
       "    <tr>\n",
       "      <th>2</th>\n",
       "      <td>2</td>\n",
       "      <td>2020-01-03</td>\n",
       "      <td>20200103</td>\n",
       "      <td>Friday</td>\n",
       "      <td>Fri</td>\n",
       "      <td>3</td>\n",
       "      <td>6</td>\n",
       "      <td>3</td>\n",
       "      <td>NoHoliday</td>\n",
       "      <td>False</td>\n",
       "      <td>...</td>\n",
       "      <td>Q1</td>\n",
       "      <td>Winter</td>\n",
       "      <td>2019-12-28</td>\n",
       "      <td>20191228</td>\n",
       "      <td>1</td>\n",
       "      <td>1</td>\n",
       "      <td>2020</td>\n",
       "      <td>2020/01</td>\n",
       "      <td>2020/Jan</td>\n",
       "      <td>2020/Q1</td>\n",
       "    </tr>\n",
       "    <tr>\n",
       "      <th>3</th>\n",
       "      <td>3</td>\n",
       "      <td>2020-01-04</td>\n",
       "      <td>20200104</td>\n",
       "      <td>Saturday</td>\n",
       "      <td>Sat</td>\n",
       "      <td>4</td>\n",
       "      <td>7</td>\n",
       "      <td>4</td>\n",
       "      <td>NoHoliday</td>\n",
       "      <td>False</td>\n",
       "      <td>...</td>\n",
       "      <td>Q1</td>\n",
       "      <td>Winter</td>\n",
       "      <td>2019-12-28</td>\n",
       "      <td>20191228</td>\n",
       "      <td>1</td>\n",
       "      <td>1</td>\n",
       "      <td>2020</td>\n",
       "      <td>2020/01</td>\n",
       "      <td>2020/Jan</td>\n",
       "      <td>2020/Q1</td>\n",
       "    </tr>\n",
       "    <tr>\n",
       "      <th>4</th>\n",
       "      <td>4</td>\n",
       "      <td>2020-01-05</td>\n",
       "      <td>20200105</td>\n",
       "      <td>Sunday</td>\n",
       "      <td>Sun</td>\n",
       "      <td>5</td>\n",
       "      <td>1</td>\n",
       "      <td>5</td>\n",
       "      <td>NoHoliday</td>\n",
       "      <td>False</td>\n",
       "      <td>...</td>\n",
       "      <td>Q1</td>\n",
       "      <td>Winter</td>\n",
       "      <td>2020-01-05</td>\n",
       "      <td>20200105</td>\n",
       "      <td>2</td>\n",
       "      <td>1</td>\n",
       "      <td>2020</td>\n",
       "      <td>2020/01</td>\n",
       "      <td>2020/Jan</td>\n",
       "      <td>2020/Q1</td>\n",
       "    </tr>\n",
       "  </tbody>\n",
       "</table>\n",
       "<p>5 rows × 28 columns</p>\n",
       "</div>"
      ],
      "text/plain": [
       "   date_key        date   date_id   day_name day_name_abbrev  day_of_month  \\\n",
       "0         0  2020-01-01  20200101  Wednesday             Wed             1   \n",
       "1         1  2020-01-02  20200102   Thursday             Thu             2   \n",
       "2         2  2020-01-03  20200103     Friday             Fri             3   \n",
       "3         3  2020-01-04  20200104   Saturday             Sat             4   \n",
       "4         4  2020-01-05  20200105     Sunday             Sun             5   \n",
       "\n",
       "   day_of_week  day_of_year    holiday_name  is_holiday  ...  \\\n",
       "0            4            1  New Year's Day        True  ...   \n",
       "1            5            2       NoHoliday       False  ...   \n",
       "2            6            3       NoHoliday       False  ...   \n",
       "3            7            4       NoHoliday       False  ...   \n",
       "4            1            5       NoHoliday       False  ...   \n",
       "\n",
       "   quarter_short_name  season week_begin_date  week_begin_date_id  \\\n",
       "0                  Q1  Winter      2019-12-28            20191228   \n",
       "1                  Q1  Winter      2019-12-28            20191228   \n",
       "2                  Q1  Winter      2019-12-28            20191228   \n",
       "3                  Q1  Winter      2019-12-28            20191228   \n",
       "4                  Q1  Winter      2020-01-05            20200105   \n",
       "\n",
       "  week_num_in_month  week_num_in_year  year year_and_month  \\\n",
       "0                 1                 1  2020        2020/01   \n",
       "1                 1                 1  2020        2020/01   \n",
       "2                 1                 1  2020        2020/01   \n",
       "3                 1                 1  2020        2020/01   \n",
       "4                 2                 1  2020        2020/01   \n",
       "\n",
       "  year_and_month_abbrev year_and_quarter  \n",
       "0              2020/Jan          2020/Q1  \n",
       "1              2020/Jan          2020/Q1  \n",
       "2              2020/Jan          2020/Q1  \n",
       "3              2020/Jan          2020/Q1  \n",
       "4              2020/Jan          2020/Q1  \n",
       "\n",
       "[5 rows x 28 columns]"
      ]
     },
     "execution_count": 37,
     "metadata": {},
     "output_type": "execute_result"
    }
   ],
   "source": [
    "date_df.head()"
   ]
  },
  {
   "cell_type": "code",
   "execution_count": 38,
   "metadata": {},
   "outputs": [],
   "source": [
    "onset_date_dimension = date_df\n",
    "reported_date_dimension = date_df\n",
    "test_date_dimension = date_df\n",
    "specimen_date_dimension = date_df"
   ]
  },
  {
   "cell_type": "code",
   "execution_count": 39,
   "metadata": {},
   "outputs": [
    {
     "data": {
      "text/plain": [
       "419"
      ]
     },
     "execution_count": 39,
     "metadata": {},
     "output_type": "execute_result"
    }
   ],
   "source": [
    "len(onset_date_dimension)"
   ]
  },
  {
   "cell_type": "code",
   "execution_count": 40,
   "metadata": {},
   "outputs": [
    {
     "data": {
      "text/plain": [
       "419"
      ]
     },
     "execution_count": 40,
     "metadata": {},
     "output_type": "execute_result"
    }
   ],
   "source": [
    "len(reported_date_dimension)"
   ]
  },
  {
   "cell_type": "code",
   "execution_count": 41,
   "metadata": {},
   "outputs": [],
   "source": [
    "onset_date_dimension = onset_date_dimension.loc[onset_date_dimension['date_id'].isin(fact_table['Onset_date_ID'])]\n"
   ]
  },
  {
   "cell_type": "code",
   "execution_count": 42,
   "metadata": {},
   "outputs": [
    {
     "data": {
      "text/plain": [
       "183"
      ]
     },
     "execution_count": 42,
     "metadata": {},
     "output_type": "execute_result"
    }
   ],
   "source": [
    "len(onset_date_dimension)"
   ]
  },
  {
   "cell_type": "code",
   "execution_count": 43,
   "metadata": {},
   "outputs": [],
   "source": [
    "reported_date_dimension = reported_date_dimension.loc[reported_date_dimension['date_id'].isin(fact_table['Reported_date_ID'])]\n"
   ]
  },
  {
   "cell_type": "code",
   "execution_count": 44,
   "metadata": {},
   "outputs": [
    {
     "data": {
      "text/plain": [
       "124"
      ]
     },
     "execution_count": 44,
     "metadata": {},
     "output_type": "execute_result"
    }
   ],
   "source": [
    "len(reported_date_dimension)"
   ]
  },
  {
   "cell_type": "code",
   "execution_count": 45,
   "metadata": {},
   "outputs": [],
   "source": [
    "test_date_dimension = test_date_dimension.loc[test_date_dimension['date_id'].isin(fact_table['Test_date_ID'])]\n"
   ]
  },
  {
   "cell_type": "code",
   "execution_count": 46,
   "metadata": {},
   "outputs": [],
   "source": [
    "specimen_date_dimension = specimen_date_dimension.loc[specimen_date_dimension['date_id'].isin(fact_table['Specimen_date_ID'])]"
   ]
  },
  {
   "cell_type": "code",
   "execution_count": 48,
   "metadata": {},
   "outputs": [],
   "source": [
    "onset_date_dimension.to_csv('dimensions/onset_date_dimension.csv', index=False)\n",
    "reported_date_dimension.to_csv('dimensions/reported_date_dimension.csv', index=False)\n",
    "test_date_dimension.to_csv('dimensions/test_date_dimension.csv', index=False)\n",
    "specimen_date_dimension.to_csv('dimensions/specimen_date_dimension.csv', index=False)"
   ]
  }
 ],
 "metadata": {
  "kernelspec": {
   "display_name": "Python 3",
   "language": "python",
   "name": "python3"
  },
  "language_info": {
   "codemirror_mode": {
    "name": "ipython",
    "version": 3
   },
   "file_extension": ".py",
   "mimetype": "text/x-python",
   "name": "python",
   "nbconvert_exporter": "python",
   "pygments_lexer": "ipython3",
   "version": "3.8.5"
  }
 },
 "nbformat": 4,
 "nbformat_minor": 4
}
