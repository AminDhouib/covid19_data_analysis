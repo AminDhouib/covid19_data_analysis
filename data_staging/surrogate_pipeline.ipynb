{
 "cells": [
  {
   "cell_type": "code",
   "execution_count": 1,
   "metadata": {},
   "outputs": [],
   "source": [
    "import pandas as pd \n",
    "import numpy as np\n",
    "import sys"
   ]
  },
  {
   "cell_type": "code",
   "execution_count": 2,
   "metadata": {},
   "outputs": [],
   "source": [
    "fact_df = pd.read_csv('dimensions/fact_table_mob_weather.csv')"
   ]
  },
  {
   "cell_type": "code",
   "execution_count": 3,
   "metadata": {},
   "outputs": [],
   "source": [
    "date_df = pd.read_csv('dimensions/date_dimension.csv')\n",
    "patient_df = pd.read_csv('dimensions/patient_dimension.csv')\n",
    "phu_df = pd.read_csv('dimensions/PHU_location_dimension.csv')\n",
    "special_measures_df = pd.read_csv('dimensions/special_measures_dimension.csv')"
   ]
  },
  {
   "cell_type": "code",
   "execution_count": 4,
   "metadata": {},
   "outputs": [
    {
     "data": {
      "text/html": [
       "<div>\n",
       "<style scoped>\n",
       "    .dataframe tbody tr th:only-of-type {\n",
       "        vertical-align: middle;\n",
       "    }\n",
       "\n",
       "    .dataframe tbody tr th {\n",
       "        vertical-align: top;\n",
       "    }\n",
       "\n",
       "    .dataframe thead th {\n",
       "        text-align: right;\n",
       "    }\n",
       "</style>\n",
       "<table border=\"1\" class=\"dataframe\">\n",
       "  <thead>\n",
       "    <tr style=\"text-align: right;\">\n",
       "      <th></th>\n",
       "      <th>Onset_date_ID</th>\n",
       "      <th>Reported_date_ID</th>\n",
       "      <th>Test_date_ID</th>\n",
       "      <th>Specimen_date_ID</th>\n",
       "      <th>Patient_ID</th>\n",
       "      <th>PHU_Location_ID</th>\n",
       "      <th>Mobility_ID</th>\n",
       "      <th>Special_Measures_ID</th>\n",
       "      <th>Weather_ID</th>\n",
       "      <th>resolved</th>\n",
       "      <th>unresolved</th>\n",
       "      <th>fatal</th>\n",
       "    </tr>\n",
       "  </thead>\n",
       "  <tbody>\n",
       "    <tr>\n",
       "      <th>0</th>\n",
       "      <td>20200311</td>\n",
       "      <td>20201205</td>\n",
       "      <td>20201205</td>\n",
       "      <td>20200929</td>\n",
       "      <td>1</td>\n",
       "      <td>2253</td>\n",
       "      <td>432</td>\n",
       "      <td>5</td>\n",
       "      <td>60</td>\n",
       "      <td>yes</td>\n",
       "      <td>no</td>\n",
       "      <td>no</td>\n",
       "    </tr>\n",
       "    <tr>\n",
       "      <th>1</th>\n",
       "      <td>20200323</td>\n",
       "      <td>20201212</td>\n",
       "      <td>20201212</td>\n",
       "      <td>20201211</td>\n",
       "      <td>2</td>\n",
       "      <td>2270</td>\n",
       "      <td>563</td>\n",
       "      <td>3</td>\n",
       "      <td>67</td>\n",
       "      <td>yes</td>\n",
       "      <td>no</td>\n",
       "      <td>no</td>\n",
       "    </tr>\n",
       "    <tr>\n",
       "      <th>2</th>\n",
       "      <td>20200429</td>\n",
       "      <td>20201006</td>\n",
       "      <td>20201006</td>\n",
       "      <td>20200821</td>\n",
       "      <td>3</td>\n",
       "      <td>2270</td>\n",
       "      <td>496</td>\n",
       "      <td>14</td>\n",
       "      <td>0</td>\n",
       "      <td>yes</td>\n",
       "      <td>no</td>\n",
       "      <td>no</td>\n",
       "    </tr>\n",
       "    <tr>\n",
       "      <th>3</th>\n",
       "      <td>20201002</td>\n",
       "      <td>20201006</td>\n",
       "      <td>20201006</td>\n",
       "      <td>20201002</td>\n",
       "      <td>6</td>\n",
       "      <td>2230</td>\n",
       "      <td>124</td>\n",
       "      <td>14</td>\n",
       "      <td>0</td>\n",
       "      <td>yes</td>\n",
       "      <td>no</td>\n",
       "      <td>no</td>\n",
       "    </tr>\n",
       "    <tr>\n",
       "      <th>4</th>\n",
       "      <td>20200926</td>\n",
       "      <td>20201006</td>\n",
       "      <td>20201006</td>\n",
       "      <td>20200930</td>\n",
       "      <td>7</td>\n",
       "      <td>2270</td>\n",
       "      <td>496</td>\n",
       "      <td>14</td>\n",
       "      <td>0</td>\n",
       "      <td>yes</td>\n",
       "      <td>no</td>\n",
       "      <td>no</td>\n",
       "    </tr>\n",
       "  </tbody>\n",
       "</table>\n",
       "</div>"
      ],
      "text/plain": [
       "   Onset_date_ID  Reported_date_ID  Test_date_ID  Specimen_date_ID  \\\n",
       "0       20200311          20201205      20201205          20200929   \n",
       "1       20200323          20201212      20201212          20201211   \n",
       "2       20200429          20201006      20201006          20200821   \n",
       "3       20201002          20201006      20201006          20201002   \n",
       "4       20200926          20201006      20201006          20200930   \n",
       "\n",
       "   Patient_ID  PHU_Location_ID  Mobility_ID  Special_Measures_ID  Weather_ID  \\\n",
       "0           1             2253          432                    5          60   \n",
       "1           2             2270          563                    3          67   \n",
       "2           3             2270          496                   14           0   \n",
       "3           6             2230          124                   14           0   \n",
       "4           7             2270          496                   14           0   \n",
       "\n",
       "  resolved unresolved fatal  \n",
       "0      yes         no    no  \n",
       "1      yes         no    no  \n",
       "2      yes         no    no  \n",
       "3      yes         no    no  \n",
       "4      yes         no    no  "
      ]
     },
     "execution_count": 4,
     "metadata": {},
     "output_type": "execute_result"
    }
   ],
   "source": [
    "fact_df.head()"
   ]
  },
  {
   "cell_type": "code",
   "execution_count": 5,
   "metadata": {},
   "outputs": [],
   "source": [
    "fact_table_final = pd.DataFrame(columns=['Onset_date_surrogate', 'Reported_date_surrogate', 'Test_date_surrogate',\n",
    "                                        'Specimen_date_surrogate', 'Patient_surrogate', 'PHU_Location_surrogate',\n",
    "                                        'Mobility_surrogate', 'Special_Measures_surrogate', 'Weather_surrogate',\n",
    "                                        'resolved', 'unresolved', 'fatal'])"
   ]
  },
  {
   "cell_type": "code",
   "execution_count": 6,
   "metadata": {},
   "outputs": [
    {
     "name": "stdout",
     "output_type": "stream",
     "text": [
      "148052 out of 148053 generated..."
     ]
    }
   ],
   "source": [
    "y = len(fact_df)\n",
    "for idx, row in fact_df.iterrows():\n",
    "    sys.stdout.write(\"\\r{0} out of {1} generated...\".format(idx,y))\n",
    "    fact_row = [date_df[date_df['date_id']==row['Onset_date_ID']]['date_key'].values[0], #onset_date\n",
    "                date_df[date_df['date_id']==row['Reported_date_ID']]['date_key'].values[0], #reported_date\n",
    "                date_df[date_df['date_id']==row['Test_date_ID']]['date_key'].values[0], #test_date \n",
    "                date_df[date_df['date_id']==row['Specimen_date_ID']]['date_key'].values[0], #specimen date\n",
    "                row['Patient_ID'], #Patient\n",
    "                phu_df[phu_df['PHU_id']==row['PHU_Location_ID']]['PHU_location_key'].values[0], #PHU location \n",
    "                row['Mobility_ID'], #Mobility \n",
    "                row['Special_Measures_ID'], #special measures \n",
    "                row['Weather_ID'], \n",
    "                row['resolved'], \n",
    "                row['unresolved'], \n",
    "                row['fatal']\n",
    "               ]\n",
    "    \n",
    "    fact_table_final.loc[len(fact_table_final)] = fact_row "
   ]
  },
  {
   "cell_type": "code",
   "execution_count": 7,
   "metadata": {},
   "outputs": [],
   "source": [
    "fact_table_final.to_csv('dimensions/fact_table_final.csv', index=False)"
   ]
  }
 ],
 "metadata": {
  "kernelspec": {
   "display_name": "Python 3",
   "language": "python",
   "name": "python3"
  },
  "language_info": {
   "codemirror_mode": {
    "name": "ipython",
    "version": 3
   },
   "file_extension": ".py",
   "mimetype": "text/x-python",
   "name": "python",
   "nbconvert_exporter": "python",
   "pygments_lexer": "ipython3",
   "version": "3.8.5"
  }
 },
 "nbformat": 4,
 "nbformat_minor": 4
}
