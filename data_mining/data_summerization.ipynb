{
 "cells": [
  {
   "cell_type": "code",
   "execution_count": 81,
   "metadata": {},
   "outputs": [],
   "source": [
    "from configparser import ConfigParser\n",
    "import configparser\n",
    "import psycopg2\n",
    "import matplotlib.pyplot as plt\n",
    "import pandas as pd \n",
    "import matplotlib.pyplot as plt\n",
    "import seaborn as sns\n"
   ]
  },
  {
   "cell_type": "code",
   "execution_count": 82,
   "metadata": {},
   "outputs": [],
   "source": [
    "def config(filename='database.ini', section='postgresql'):\n",
    "    # create a parser\n",
    "    parser = ConfigParser()\n",
    "    # read config file\n",
    "    parser.read(filename)\n",
    "\n",
    "    # get section, default to postgresql\n",
    "    db = {}\n",
    "    if parser.has_section(section):\n",
    "        params = parser.items(section)\n",
    "        for param in params:\n",
    "            db[param[0]] = param[1]\n",
    "    else:\n",
    "        raise Exception('Section {0} not found in the {1} file'.format(section, filename))\n",
    "\n",
    "    return db"
   ]
  },
  {
   "cell_type": "code",
   "execution_count": 83,
   "metadata": {},
   "outputs": [],
   "source": [
    "#Establish the connection and create a curose to the database \n",
    "def connect(cfg):\n",
    "    try:\n",
    "        print(\"Attempting to connect to the database\")\n",
    "        conn = psycopg2.connect(**cfg)\n",
    "        cursor = conn.cursor()\n",
    "        print(\"Connected!\")\n",
    "    except (Exception, psycopg2.DatabaseError) as error:\n",
    "        print(error)\n",
    "    return conn, cursor \n",
    "\n",
    "def close_connection(connection, cursor):\n",
    "    print(\"Closing connection\")\n",
    "    cursor.close()\n",
    "    connection.close()\n",
    "    print(\"Connection closed!\")"
   ]
  },
  {
   "cell_type": "code",
   "execution_count": 84,
   "metadata": {},
   "outputs": [],
   "source": [
    "def fetch(cursor, query):\n",
    "    \"\"\"\n",
    "    Fetch the data from the db \n",
    "    \"\"\"\n",
    "    print(\"Fetching query...\")\n",
    "    # Get the features and labels\n",
    "    try:\n",
    "        cursor.execute(query)\n",
    "        #Get the complete result set: list of tuples where each tuple is a row from the result set \n",
    "        result_list = cursor.fetchall()\n",
    "        print(\"Fetched!\")\n",
    "        return result_list\n",
    "    except (Exception, psycopg2.DatabaseError) as error:\n",
    "        print(error)"
   ]
  },
  {
   "cell_type": "code",
   "execution_count": 85,
   "metadata": {},
   "outputs": [],
   "source": [
    "def load_config(config_file):\n",
    "    # Read the config file \n",
    "    config = configparser.ConfigParser()\n",
    "    config.read(config_file)\n",
    "    # Clean up sql_query \n",
    "    sql_query = config['DEFAULT']['sql_query'].replace('\\n', ' ').strip()\n",
    "    columns = config['DEFAULT']['columns'].split(', ')\n",
    "    categorical_col_list = config['DEFAULT']['categorical_col_list'].split(', ')\n",
    "    numeric_col_list = config['DEFAULT']['numeric_col_list'].split(', ')\n",
    "    label = config['DEFAULT']['label']\n",
    "    labels_to_drop = config['DEFAULT']['labels_to_drop']\n",
    "    if labels_to_drop:\n",
    "        labels_to_drop = config['DEFAULT']['labels_to_drop'].split(', ')\n",
    "    return sql_query, columns, categorical_col_list, numeric_col_list, label, labels_to_drop"
   ]
  },
  {
   "cell_type": "code",
   "execution_count": 86,
   "metadata": {},
   "outputs": [],
   "source": [
    "def load_data():\n",
    "    print(\"Loading data...\")\n",
    "    # Get the configuration file as a python dict\n",
    "    cfg = config()\n",
    "    # Connect to the database\n",
    "    conn, cursor = connect(cfg)\n",
    "    # Fetch the data\n",
    "    result_list = fetch(cursor, sql_query)\n",
    "    # Load results in datafram\n",
    "    result_df = load(result_list, columns)\n",
    "    print(\"Data loaded into dataframe!\")\n",
    "    return result_df"
   ]
  },
  {
   "cell_type": "code",
   "execution_count": 87,
   "metadata": {},
   "outputs": [],
   "source": [
    "def load(result_list, cols):\n",
    "    \"\"\"\n",
    "    Load data in a dataframe\n",
    "    \"\"\"\n",
    "    print(\"Loading data in dataframe\")\n",
    "    result_df = pd.DataFrame(result_list, columns=cols)\n",
    "    return result_df"
   ]
  },
  {
   "cell_type": "code",
   "execution_count": 88,
   "metadata": {},
   "outputs": [],
   "source": [
    "sql_query, columns, categorical_col_list, numeric_col_list, label, labels_to_drop = load_config('summerization_config.ini')\n",
    "\n",
    "def get_data():\n",
    "    result_df = load_data()\n",
    "    X, y = data_transform(result_df, top_k)\n",
    "    return X, y"
   ]
  },
  {
   "cell_type": "code",
   "execution_count": 89,
   "metadata": {},
   "outputs": [
    {
     "name": "stdout",
     "output_type": "stream",
     "text": [
      "Loading data...\n",
      "Attempting to connect to the database\n",
      "Connected!\n",
      "Fetching query...\n",
      "Fetched!\n",
      "Loading data in dataframe\n",
      "Data loaded into dataframe!\n"
     ]
    }
   ],
   "source": [
    "data = load_data()"
   ]
  },
  {
   "cell_type": "code",
   "execution_count": 90,
   "metadata": {},
   "outputs": [
    {
     "data": {
      "text/html": [
       "<div>\n",
       "<style scoped>\n",
       "    .dataframe tbody tr th:only-of-type {\n",
       "        vertical-align: middle;\n",
       "    }\n",
       "\n",
       "    .dataframe tbody tr th {\n",
       "        vertical-align: top;\n",
       "    }\n",
       "\n",
       "    .dataframe thead th {\n",
       "        text-align: right;\n",
       "    }\n",
       "</style>\n",
       "<table border=\"1\" class=\"dataframe\">\n",
       "  <thead>\n",
       "    <tr style=\"text-align: right;\">\n",
       "      <th></th>\n",
       "      <th>gender</th>\n",
       "      <th>age_group</th>\n",
       "      <th>outbreak_related</th>\n",
       "      <th>month_name</th>\n",
       "      <th>is_holiday</th>\n",
       "      <th>season</th>\n",
       "      <th>is_weekend</th>\n",
       "      <th>title</th>\n",
       "      <th>phu_name</th>\n",
       "      <th>retail_and_recreation</th>\n",
       "      <th>grocery_and_pharmacy</th>\n",
       "      <th>parks</th>\n",
       "      <th>transit_stations</th>\n",
       "      <th>workplaces</th>\n",
       "      <th>residential</th>\n",
       "      <th>resolved</th>\n",
       "      <th>unresolved</th>\n",
       "      <th>fatal</th>\n",
       "    </tr>\n",
       "  </thead>\n",
       "  <tbody>\n",
       "    <tr>\n",
       "      <th>148048</th>\n",
       "      <td>MALE</td>\n",
       "      <td>&lt;20</td>\n",
       "      <td>No</td>\n",
       "      <td>November</td>\n",
       "      <td>False</td>\n",
       "      <td>Fall</td>\n",
       "      <td>False</td>\n",
       "      <td>workplace_closure</td>\n",
       "      <td>Toronto Public Health</td>\n",
       "      <td>-44.00000</td>\n",
       "      <td>-10.00000</td>\n",
       "      <td>-9.00000</td>\n",
       "      <td>-60.00000</td>\n",
       "      <td>-48.00000</td>\n",
       "      <td>20.00000</td>\n",
       "      <td>yes</td>\n",
       "      <td>no</td>\n",
       "      <td>no</td>\n",
       "    </tr>\n",
       "    <tr>\n",
       "      <th>148049</th>\n",
       "      <td>FEMALE</td>\n",
       "      <td>50s</td>\n",
       "      <td>No</td>\n",
       "      <td>January</td>\n",
       "      <td>False</td>\n",
       "      <td>Winter</td>\n",
       "      <td>False</td>\n",
       "      <td>stay_at_home</td>\n",
       "      <td>Toronto Public Health</td>\n",
       "      <td>-59.00000</td>\n",
       "      <td>-27.00000</td>\n",
       "      <td>-27.00000</td>\n",
       "      <td>-70.00000</td>\n",
       "      <td>-58.00000</td>\n",
       "      <td>23.00000</td>\n",
       "      <td>yes</td>\n",
       "      <td>no</td>\n",
       "      <td>no</td>\n",
       "    </tr>\n",
       "    <tr>\n",
       "      <th>148050</th>\n",
       "      <td>FEMALE</td>\n",
       "      <td>50s</td>\n",
       "      <td>Yes</td>\n",
       "      <td>October</td>\n",
       "      <td>False</td>\n",
       "      <td>Fall</td>\n",
       "      <td>False</td>\n",
       "      <td>school_closure</td>\n",
       "      <td>Toronto Public Health</td>\n",
       "      <td>-38.00000</td>\n",
       "      <td>-7.00000</td>\n",
       "      <td>5.00000</td>\n",
       "      <td>-54.00000</td>\n",
       "      <td>-46.00000</td>\n",
       "      <td>19.00000</td>\n",
       "      <td>yes</td>\n",
       "      <td>no</td>\n",
       "      <td>no</td>\n",
       "    </tr>\n",
       "    <tr>\n",
       "      <th>148051</th>\n",
       "      <td>MALE</td>\n",
       "      <td>70s</td>\n",
       "      <td>Yes</td>\n",
       "      <td>October</td>\n",
       "      <td>False</td>\n",
       "      <td>Fall</td>\n",
       "      <td>False</td>\n",
       "      <td>school_closure</td>\n",
       "      <td>Toronto Public Health</td>\n",
       "      <td>-35.00000</td>\n",
       "      <td>-8.00000</td>\n",
       "      <td>69.00000</td>\n",
       "      <td>-50.00000</td>\n",
       "      <td>-45.00000</td>\n",
       "      <td>16.00000</td>\n",
       "      <td>no</td>\n",
       "      <td>no</td>\n",
       "      <td>yes</td>\n",
       "    </tr>\n",
       "    <tr>\n",
       "      <th>148052</th>\n",
       "      <td>MALE</td>\n",
       "      <td>40s</td>\n",
       "      <td>No</td>\n",
       "      <td>December</td>\n",
       "      <td>False</td>\n",
       "      <td>Winter</td>\n",
       "      <td>True</td>\n",
       "      <td>stay_at_home</td>\n",
       "      <td>Toronto Public Health</td>\n",
       "      <td>-47.00000</td>\n",
       "      <td>-8.00000</td>\n",
       "      <td>5.00000</td>\n",
       "      <td>-68.00000</td>\n",
       "      <td>-64.00000</td>\n",
       "      <td>23.00000</td>\n",
       "      <td>yes</td>\n",
       "      <td>no</td>\n",
       "      <td>no</td>\n",
       "    </tr>\n",
       "  </tbody>\n",
       "</table>\n",
       "</div>"
      ],
      "text/plain": [
       "        gender age_group outbreak_related month_name  is_holiday  season  \\\n",
       "148048    MALE       <20               No   November       False    Fall   \n",
       "148049  FEMALE       50s               No    January       False  Winter   \n",
       "148050  FEMALE       50s              Yes    October       False    Fall   \n",
       "148051    MALE       70s              Yes    October       False    Fall   \n",
       "148052    MALE       40s               No   December       False  Winter   \n",
       "\n",
       "        is_weekend              title               phu_name  \\\n",
       "148048       False  workplace_closure  Toronto Public Health   \n",
       "148049       False       stay_at_home  Toronto Public Health   \n",
       "148050       False     school_closure  Toronto Public Health   \n",
       "148051       False     school_closure  Toronto Public Health   \n",
       "148052        True       stay_at_home  Toronto Public Health   \n",
       "\n",
       "       retail_and_recreation grocery_and_pharmacy      parks transit_stations  \\\n",
       "148048             -44.00000            -10.00000   -9.00000        -60.00000   \n",
       "148049             -59.00000            -27.00000  -27.00000        -70.00000   \n",
       "148050             -38.00000             -7.00000    5.00000        -54.00000   \n",
       "148051             -35.00000             -8.00000   69.00000        -50.00000   \n",
       "148052             -47.00000             -8.00000    5.00000        -68.00000   \n",
       "\n",
       "       workplaces residential resolved unresolved fatal  \n",
       "148048  -48.00000    20.00000      yes         no    no  \n",
       "148049  -58.00000    23.00000      yes         no    no  \n",
       "148050  -46.00000    19.00000      yes         no    no  \n",
       "148051  -45.00000    16.00000       no         no   yes  \n",
       "148052  -64.00000    23.00000      yes         no    no  "
      ]
     },
     "execution_count": 90,
     "metadata": {},
     "output_type": "execute_result"
    }
   ],
   "source": [
    "data.tail()"
   ]
  },
  {
   "cell_type": "code",
   "execution_count": 91,
   "metadata": {},
   "outputs": [],
   "source": [
    "fatal_df = data[data[\"fatal\"] == \"yes\"]"
   ]
  },
  {
   "cell_type": "code",
   "execution_count": 92,
   "metadata": {},
   "outputs": [
    {
     "data": {
      "image/png": "[encoded data removed]",
      "text/plain": [
       "<Figure size 1152x576 with 2 Axes>"
      ]
     },
     "metadata": {
      "needs_background": "light"
     },
     "output_type": "display_data"
    }
   ],
   "source": [
    "def month_sorter(column):\n",
    "    teams = ['September','October','November', 'December', 'January', 'February']\n",
    "    correspondence = {team: order for order, team in enumerate(teams)}\n",
    "    return column.map(correspondence)\n",
    "\n",
    "\n",
    "month_sorted_df= fatal_df.sort_values(by='month_name', key=month_sorter)\n",
    "\n",
    "fig, axs = plt.subplots(ncols=2)\n",
    "order_list = ['September','October','November', 'December', 'January', 'February']\n",
    "sns.histplot(fatal_df[\"age_group\"], ax=axs[0]).set(title='Fatalities by Age Group Distribution')\n",
    "sns.histplot(month_sorted_df[\"month_name\"],ax=axs[1]).set(title='Fatalities by Month Distribution')\n",
    "\n",
    "fig.set_size_inches(16, 8)"
   ]
  },
  {
   "cell_type": "markdown",
   "metadata": {},
   "source": [
    "Age Group:\n",
    "- Most fatalities occured in people in their 80s\n",
    "- least in people in their 20s and no fatalities for people less than 20\n",
    "\n",
    "Month:\n",
    "- Significantly more fatalities in November, December and January compared to October, February and September\n",
    "- Most fatalities occur in December, Least in September"
   ]
  },
  {
   "cell_type": "code",
   "execution_count": 93,
   "metadata": {},
   "outputs": [
    {
     "data": {
      "image/png": "[encoded data removed]",
      "text/plain": [
       "<Figure size 1152x576 with 1 Axes>"
      ]
     },
     "metadata": {
      "needs_background": "light"
     },
     "output_type": "display_data"
    }
   ],
   "source": [
    "fig, ax = plt.subplots()\n",
    "sns.histplot(fatal_df[\"gender\"], ax=ax).set(title='Fatalities by Gender Distribution')\n",
    "fig.set_size_inches(16, 8)\n",
    "\n"
   ]
  },
  {
   "cell_type": "markdown",
   "metadata": {},
   "source": [
    "Most fatalities occures in men, but not by a significant amount. There are a few fatalities of those of unspecified gender."
   ]
  },
  {
   "cell_type": "code",
   "execution_count": 94,
   "metadata": {},
   "outputs": [
    {
     "data": {
      "image/png": "[encoded data removed]",
      "text/plain": [
       "<Figure size 1800x1152 with 1 Axes>"
      ]
     },
     "metadata": {
      "needs_background": "light"
     },
     "output_type": "display_data"
    }
   ],
   "source": [
    "fig, ax = plt.subplots()\n",
    "sns.histplot(fatal_df[\"phu_name\"], ax=ax).set(title='Fatalities by PHU Distribution')\n",
    "fig.set_size_inches(25, 16)"
   ]
  },
  {
   "cell_type": "markdown",
   "metadata": {},
   "source": [
    "The most fatalities occured in the Totonto Public Health Unit PHU.  The least amount of fatalities occures in the Durham Region Health Department,"
   ]
  },
  {
   "cell_type": "code",
   "execution_count": 95,
   "metadata": {},
   "outputs": [
    {
     "name": "stdout",
     "output_type": "stream",
     "text": [
      "Loading data...\n",
      "Attempting to connect to the database\n",
      "Connected!\n",
      "Fetching query...\n",
      "Fetched!\n",
      "Loading data in dataframe\n",
      "Data loaded into dataframe!\n"
     ]
    }
   ],
   "source": [
    "query = \"Select retail_and_recreation, grocery_and_pharmacy, parks, transit_stations, workplaces, residential From covid.mobility;\"\n",
    "\n",
    "sql_query = query\n",
    "columns = [\"retail_and_recreation\", \"grocery_and_pharmacy\", \"parks\", \"transit_stations\", \"workplaces\", \"residential\"]\n",
    "\n",
    "mobility_data = load_data()"
   ]
  },
  {
   "cell_type": "code",
   "execution_count": 96,
   "metadata": {},
   "outputs": [
    {
     "data": {
      "text/html": [
       "<div>\n",
       "<style scoped>\n",
       "    .dataframe tbody tr th:only-of-type {\n",
       "        vertical-align: middle;\n",
       "    }\n",
       "\n",
       "    .dataframe tbody tr th {\n",
       "        vertical-align: top;\n",
       "    }\n",
       "\n",
       "    .dataframe thead th {\n",
       "        text-align: right;\n",
       "    }\n",
       "</style>\n",
       "<table border=\"1\" class=\"dataframe\">\n",
       "  <thead>\n",
       "    <tr style=\"text-align: right;\">\n",
       "      <th></th>\n",
       "      <th>retail_and_recreation</th>\n",
       "      <th>grocery_and_pharmacy</th>\n",
       "      <th>parks</th>\n",
       "      <th>transit_stations</th>\n",
       "      <th>workplaces</th>\n",
       "      <th>residential</th>\n",
       "    </tr>\n",
       "  </thead>\n",
       "  <tbody>\n",
       "    <tr>\n",
       "      <th>0</th>\n",
       "      <td>-28.00000</td>\n",
       "      <td>-6.00000</td>\n",
       "      <td>-4.00000</td>\n",
       "      <td>-64.00000</td>\n",
       "      <td>-53.00000</td>\n",
       "      <td>18.00000</td>\n",
       "    </tr>\n",
       "    <tr>\n",
       "      <th>1</th>\n",
       "      <td>-32.00000</td>\n",
       "      <td>-9.00000</td>\n",
       "      <td>-26.00000</td>\n",
       "      <td>-68.00000</td>\n",
       "      <td>-53.00000</td>\n",
       "      <td>19.00000</td>\n",
       "    </tr>\n",
       "    <tr>\n",
       "      <th>2</th>\n",
       "      <td>-24.00000</td>\n",
       "      <td>3.00000</td>\n",
       "      <td>5.00000</td>\n",
       "      <td>-61.00000</td>\n",
       "      <td>-52.00000</td>\n",
       "      <td>18.00000</td>\n",
       "    </tr>\n",
       "    <tr>\n",
       "      <th>3</th>\n",
       "      <td>-29.00000</td>\n",
       "      <td>0.00000</td>\n",
       "      <td>19.00000</td>\n",
       "      <td>-57.00000</td>\n",
       "      <td>-50.00000</td>\n",
       "      <td>17.00000</td>\n",
       "    </tr>\n",
       "    <tr>\n",
       "      <th>4</th>\n",
       "      <td>-29.00000</td>\n",
       "      <td>1.00000</td>\n",
       "      <td>89.00000</td>\n",
       "      <td>-49.00000</td>\n",
       "      <td>-4.00000</td>\n",
       "      <td>6.00000</td>\n",
       "    </tr>\n",
       "  </tbody>\n",
       "</table>\n",
       "</div>"
      ],
      "text/plain": [
       "  retail_and_recreation grocery_and_pharmacy      parks transit_stations  \\\n",
       "0             -28.00000             -6.00000   -4.00000        -64.00000   \n",
       "1             -32.00000             -9.00000  -26.00000        -68.00000   \n",
       "2             -24.00000              3.00000    5.00000        -61.00000   \n",
       "3             -29.00000              0.00000   19.00000        -57.00000   \n",
       "4             -29.00000              1.00000   89.00000        -49.00000   \n",
       "\n",
       "  workplaces residential  \n",
       "0  -53.00000    18.00000  \n",
       "1  -53.00000    19.00000  \n",
       "2  -52.00000    18.00000  \n",
       "3  -50.00000    17.00000  \n",
       "4   -4.00000     6.00000  "
      ]
     },
     "execution_count": 96,
     "metadata": {},
     "output_type": "execute_result"
    }
   ],
   "source": [
    "mobility_data.head()"
   ]
  },
  {
   "cell_type": "code",
   "execution_count": 97,
   "metadata": {},
   "outputs": [
    {
     "data": {
      "text/plain": [
       "[Text(0.5, 1.0, 'Distribution of Location Mobility')]"
      ]
     },
     "execution_count": 97,
     "metadata": {},
     "output_type": "execute_result"
    },
    {
     "data": {
      "image/png": "[encoded data removed]",
      "text/plain": [
       "<Figure size 1152x864 with 1 Axes>"
      ]
     },
     "metadata": {
      "needs_background": "light"
     },
     "output_type": "display_data"
    }
   ],
   "source": [
    "plt.figure(figsize=(16, 12))\n",
    "\n",
    "sns.boxplot(data=mobility_data).set(title=\"Distribution of Location Mobility\")"
   ]
  },
  {
   "cell_type": "code",
   "execution_count": 98,
   "metadata": {},
   "outputs": [
    {
     "name": "stdout",
     "output_type": "stream",
     "text": [
      "Loading data...\n",
      "Attempting to connect to the database\n",
      "Connected!\n",
      "Fetching query...\n",
      "Fetched!\n",
      "Loading data in dataframe\n",
      "Data loaded into dataframe!\n"
     ]
    }
   ],
   "source": [
    "sql_query = \"\"\"select M.date, M.subregion, M.retail_and_recreation, M.grocery_and_pharmacy, M.parks, M.transit_stations, M.workplaces, M.residential,\n",
    "D.day_name, D.holiday_name, D.is_holiday, D.is_weekday, D.is_weekend, D.month_name\n",
    "from covid.mobility_dated_copy as M, covid.date as D\n",
    "where M.date = D.date;\"\"\"\n",
    "\n",
    "columns = [\"date\", \"subregion\", \"retail_and_recreation\", \"grocery_and_pharmacy\", \"parks\", \n",
    "           \"transit_stations\", \"workplaces\", \"residential\", \"day_name\", \"holiday_name\", \"is_holiday\", \"is_weekday\",\n",
    "          \"is_weekend\", \"month\"]\n",
    "\n",
    "mobility_dated_data = load_data()"
   ]
  },
  {
   "cell_type": "code",
   "execution_count": 99,
   "metadata": {},
   "outputs": [
    {
     "data": {
      "text/html": [
       "<div>\n",
       "<style scoped>\n",
       "    .dataframe tbody tr th:only-of-type {\n",
       "        vertical-align: middle;\n",
       "    }\n",
       "\n",
       "    .dataframe tbody tr th {\n",
       "        vertical-align: top;\n",
       "    }\n",
       "\n",
       "    .dataframe thead th {\n",
       "        text-align: right;\n",
       "    }\n",
       "</style>\n",
       "<table border=\"1\" class=\"dataframe\">\n",
       "  <thead>\n",
       "    <tr style=\"text-align: right;\">\n",
       "      <th></th>\n",
       "      <th>date</th>\n",
       "      <th>subregion</th>\n",
       "      <th>retail_and_recreation</th>\n",
       "      <th>grocery_and_pharmacy</th>\n",
       "      <th>parks</th>\n",
       "      <th>transit_stations</th>\n",
       "      <th>workplaces</th>\n",
       "      <th>residential</th>\n",
       "      <th>day_name</th>\n",
       "      <th>holiday_name</th>\n",
       "      <th>is_holiday</th>\n",
       "      <th>is_weekday</th>\n",
       "      <th>is_weekend</th>\n",
       "      <th>month</th>\n",
       "    </tr>\n",
       "  </thead>\n",
       "  <tbody>\n",
       "    <tr>\n",
       "      <th>0</th>\n",
       "      <td>2020-10-06</td>\n",
       "      <td>Ottawa Division</td>\n",
       "      <td>-28</td>\n",
       "      <td>-6</td>\n",
       "      <td>-4</td>\n",
       "      <td>-64</td>\n",
       "      <td>-53</td>\n",
       "      <td>18</td>\n",
       "      <td>Tuesday</td>\n",
       "      <td>NoHoliday</td>\n",
       "      <td>False</td>\n",
       "      <td>True</td>\n",
       "      <td>False</td>\n",
       "      <td>October</td>\n",
       "    </tr>\n",
       "    <tr>\n",
       "      <th>1</th>\n",
       "      <td>2020-10-07</td>\n",
       "      <td>Ottawa Division</td>\n",
       "      <td>-32</td>\n",
       "      <td>-9</td>\n",
       "      <td>-26</td>\n",
       "      <td>-68</td>\n",
       "      <td>-53</td>\n",
       "      <td>19</td>\n",
       "      <td>Wednesday</td>\n",
       "      <td>NoHoliday</td>\n",
       "      <td>False</td>\n",
       "      <td>True</td>\n",
       "      <td>False</td>\n",
       "      <td>October</td>\n",
       "    </tr>\n",
       "    <tr>\n",
       "      <th>2</th>\n",
       "      <td>2020-10-08</td>\n",
       "      <td>Ottawa Division</td>\n",
       "      <td>-24</td>\n",
       "      <td>3</td>\n",
       "      <td>5</td>\n",
       "      <td>-61</td>\n",
       "      <td>-52</td>\n",
       "      <td>18</td>\n",
       "      <td>Thursday</td>\n",
       "      <td>NoHoliday</td>\n",
       "      <td>False</td>\n",
       "      <td>True</td>\n",
       "      <td>False</td>\n",
       "      <td>October</td>\n",
       "    </tr>\n",
       "    <tr>\n",
       "      <th>3</th>\n",
       "      <td>2020-10-09</td>\n",
       "      <td>Ottawa Division</td>\n",
       "      <td>-29</td>\n",
       "      <td>0</td>\n",
       "      <td>19</td>\n",
       "      <td>-57</td>\n",
       "      <td>-50</td>\n",
       "      <td>17</td>\n",
       "      <td>Friday</td>\n",
       "      <td>NoHoliday</td>\n",
       "      <td>False</td>\n",
       "      <td>True</td>\n",
       "      <td>False</td>\n",
       "      <td>October</td>\n",
       "    </tr>\n",
       "    <tr>\n",
       "      <th>4</th>\n",
       "      <td>2020-10-10</td>\n",
       "      <td>Ottawa Division</td>\n",
       "      <td>-29</td>\n",
       "      <td>1</td>\n",
       "      <td>89</td>\n",
       "      <td>-49</td>\n",
       "      <td>-4</td>\n",
       "      <td>6</td>\n",
       "      <td>Saturday</td>\n",
       "      <td>NoHoliday</td>\n",
       "      <td>False</td>\n",
       "      <td>False</td>\n",
       "      <td>True</td>\n",
       "      <td>October</td>\n",
       "    </tr>\n",
       "  </tbody>\n",
       "</table>\n",
       "</div>"
      ],
      "text/plain": [
       "         date        subregion retail_and_recreation grocery_and_pharmacy  \\\n",
       "0  2020-10-06  Ottawa Division                   -28                   -6   \n",
       "1  2020-10-07  Ottawa Division                   -32                   -9   \n",
       "2  2020-10-08  Ottawa Division                   -24                    3   \n",
       "3  2020-10-09  Ottawa Division                   -29                    0   \n",
       "4  2020-10-10  Ottawa Division                   -29                    1   \n",
       "\n",
       "   parks  transit_stations  workplaces  residential   day_name holiday_name  \\\n",
       "0     -4               -64         -53           18    Tuesday    NoHoliday   \n",
       "1    -26               -68         -53           19  Wednesday    NoHoliday   \n",
       "2      5               -61         -52           18   Thursday    NoHoliday   \n",
       "3     19               -57         -50           17     Friday    NoHoliday   \n",
       "4     89               -49          -4            6   Saturday    NoHoliday   \n",
       "\n",
       "   is_holiday  is_weekday  is_weekend    month  \n",
       "0       False        True       False  October  \n",
       "1       False        True       False  October  \n",
       "2       False        True       False  October  \n",
       "3       False        True       False  October  \n",
       "4       False       False        True  October  "
      ]
     },
     "execution_count": 99,
     "metadata": {},
     "output_type": "execute_result"
    }
   ],
   "source": [
    "mobility_dated_data.head()"
   ]
  },
  {
   "cell_type": "code",
   "execution_count": 100,
   "metadata": {},
   "outputs": [
    {
     "data": {
      "image/png": "[encoded data removed]",
      "text/plain": [
       "<Figure size 1152x576 with 2 Axes>"
      ]
     },
     "metadata": {
      "needs_background": "light"
     },
     "output_type": "display_data"
    }
   ],
   "source": [
    "short_columns = [\"retail_rec\", \"grocery\", \"parks\", \"transit\", \"workplaces\", \"residential\"]\n",
    "\n",
    "october = mobility_dated_data[mobility_dated_data[\"month\"] == \"October\"]\n",
    "october_mobility = october[[\"retail_and_recreation\", \"grocery_and_pharmacy\", \"parks\", \"transit_stations\", \"workplaces\", \"residential\" ]]\n",
    "november = mobility_dated_data[mobility_dated_data[\"month\"] == \"November\"]\n",
    "november_mobility = november[[\"retail_and_recreation\", \"grocery_and_pharmacy\", \"parks\", \"transit_stations\", \"workplaces\", \"residential\" ]]\n",
    "december = mobility_dated_data[mobility_dated_data[\"month\"] == \"December\"]\n",
    "december_mobility = december[[\"retail_and_recreation\", \"grocery_and_pharmacy\", \"parks\", \"transit_stations\", \"workplaces\", \"residential\" ]]\n",
    "january = mobility_dated_data[mobility_dated_data[\"month\"] == \"January\"]\n",
    "january_mobility = january[[\"retail_and_recreation\", \"grocery_and_pharmacy\", \"parks\", \"transit_stations\", \"workplaces\", \"residential\" ]]\n",
    "february = mobility_dated_data[mobility_dated_data[\"month\"] == \"February\"]\n",
    "february_mobility = february[[\"retail_and_recreation\", \"grocery_and_pharmacy\", \"parks\", \"transit_stations\", \"workplaces\", \"residential\" ]]\n",
    "\n",
    "october_mobility.columns = short_columns\n",
    "november_mobility.columns = short_columns\n",
    "december_mobility.columns = short_columns\n",
    "january_mobility.columns = short_columns\n",
    "february_mobility.columns = short_columns\n",
    "\n",
    "\n",
    "fig, ax = plt.subplots(ncols=2)\n",
    "sns.boxplot(data=october_mobility, ax=ax[0]).set(title=\"Distribution of Location Mobility for October\")\n",
    "sns.boxplot(data=november_mobility, ax=ax[1]).set(title=\"Distribution of Location Mobility for November\")\n",
    "fig.set_size_inches(16, 8)"
   ]
  },
  {
   "cell_type": "code",
   "execution_count": 101,
   "metadata": {},
   "outputs": [
    {
     "data": {
      "image/png": "[encoded data removed]",
      "text/plain": [
       "<Figure size 1152x576 with 2 Axes>"
      ]
     },
     "metadata": {
      "needs_background": "light"
     },
     "output_type": "display_data"
    }
   ],
   "source": [
    "fig, ax = plt.subplots(ncols=2)\n",
    "sns.boxplot(data=december_mobility, ax=ax[0]).set(title=\"Distribution of Location Mobility for December\")\n",
    "sns.boxplot(data=january_mobility, ax=ax[1]).set(title=\"Distribution of Location Mobility for January\")\n",
    "ax[0].set_ylim(-100, 250)\n",
    "ax[1].set_ylim(-100, 250)\n",
    "fig.set_size_inches(16, 8)"
   ]
  },
  {
   "cell_type": "code",
   "execution_count": 102,
   "metadata": {},
   "outputs": [],
   "source": [
    "x = october[october[\"parks\"] > 200]"
   ]
  },
  {
   "cell_type": "code",
   "execution_count": 103,
   "metadata": {},
   "outputs": [
    {
     "data": {
      "text/html": [
       "<div>\n",
       "<style scoped>\n",
       "    .dataframe tbody tr th:only-of-type {\n",
       "        vertical-align: middle;\n",
       "    }\n",
       "\n",
       "    .dataframe tbody tr th {\n",
       "        vertical-align: top;\n",
       "    }\n",
       "\n",
       "    .dataframe thead th {\n",
       "        text-align: right;\n",
       "    }\n",
       "</style>\n",
       "<table border=\"1\" class=\"dataframe\">\n",
       "  <thead>\n",
       "    <tr style=\"text-align: right;\">\n",
       "      <th></th>\n",
       "      <th>date</th>\n",
       "      <th>subregion</th>\n",
       "      <th>retail_and_recreation</th>\n",
       "      <th>grocery_and_pharmacy</th>\n",
       "      <th>parks</th>\n",
       "      <th>transit_stations</th>\n",
       "      <th>workplaces</th>\n",
       "      <th>residential</th>\n",
       "      <th>day_name</th>\n",
       "      <th>holiday_name</th>\n",
       "      <th>is_holiday</th>\n",
       "      <th>is_weekday</th>\n",
       "      <th>is_weekend</th>\n",
       "      <th>month</th>\n",
       "    </tr>\n",
       "  </thead>\n",
       "  <tbody>\n",
       "    <tr>\n",
       "      <th>252</th>\n",
       "      <td>2020-10-10</td>\n",
       "      <td>Regional Municipality of Halton</td>\n",
       "      <td>-21</td>\n",
       "      <td>12</td>\n",
       "      <td>215</td>\n",
       "      <td>-29</td>\n",
       "      <td>-4</td>\n",
       "      <td>5</td>\n",
       "      <td>Saturday</td>\n",
       "      <td>NoHoliday</td>\n",
       "      <td>False</td>\n",
       "      <td>False</td>\n",
       "      <td>True</td>\n",
       "      <td>October</td>\n",
       "    </tr>\n",
       "    <tr>\n",
       "      <th>254</th>\n",
       "      <td>2020-10-12</td>\n",
       "      <td>Regional Municipality of Halton</td>\n",
       "      <td>-59</td>\n",
       "      <td>-54</td>\n",
       "      <td>259</td>\n",
       "      <td>-78</td>\n",
       "      <td>-85</td>\n",
       "      <td>25</td>\n",
       "      <td>Monday</td>\n",
       "      <td>Thanksgiving</td>\n",
       "      <td>True</td>\n",
       "      <td>True</td>\n",
       "      <td>False</td>\n",
       "      <td>October</td>\n",
       "    </tr>\n",
       "    <tr>\n",
       "      <th>259</th>\n",
       "      <td>2020-10-17</td>\n",
       "      <td>Regional Municipality of Halton</td>\n",
       "      <td>-13</td>\n",
       "      <td>10</td>\n",
       "      <td>246</td>\n",
       "      <td>-23</td>\n",
       "      <td>-2</td>\n",
       "      <td>6</td>\n",
       "      <td>Saturday</td>\n",
       "      <td>NoHoliday</td>\n",
       "      <td>False</td>\n",
       "      <td>False</td>\n",
       "      <td>True</td>\n",
       "      <td>October</td>\n",
       "    </tr>\n",
       "    <tr>\n",
       "      <th>500</th>\n",
       "      <td>2020-10-10</td>\n",
       "      <td>Regional Municipality of York</td>\n",
       "      <td>-23</td>\n",
       "      <td>9</td>\n",
       "      <td>213</td>\n",
       "      <td>-33</td>\n",
       "      <td>-5</td>\n",
       "      <td>6</td>\n",
       "      <td>Saturday</td>\n",
       "      <td>NoHoliday</td>\n",
       "      <td>False</td>\n",
       "      <td>False</td>\n",
       "      <td>True</td>\n",
       "      <td>October</td>\n",
       "    </tr>\n",
       "    <tr>\n",
       "      <th>501</th>\n",
       "      <td>2020-10-11</td>\n",
       "      <td>Regional Municipality of York</td>\n",
       "      <td>-23</td>\n",
       "      <td>6</td>\n",
       "      <td>204</td>\n",
       "      <td>-40</td>\n",
       "      <td>-7</td>\n",
       "      <td>4</td>\n",
       "      <td>Sunday</td>\n",
       "      <td>NoHoliday</td>\n",
       "      <td>False</td>\n",
       "      <td>False</td>\n",
       "      <td>True</td>\n",
       "      <td>October</td>\n",
       "    </tr>\n",
       "    <tr>\n",
       "      <th>502</th>\n",
       "      <td>2020-10-12</td>\n",
       "      <td>Regional Municipality of York</td>\n",
       "      <td>-45</td>\n",
       "      <td>-35</td>\n",
       "      <td>201</td>\n",
       "      <td>-73</td>\n",
       "      <td>-83</td>\n",
       "      <td>26</td>\n",
       "      <td>Monday</td>\n",
       "      <td>Thanksgiving</td>\n",
       "      <td>True</td>\n",
       "      <td>True</td>\n",
       "      <td>False</td>\n",
       "      <td>October</td>\n",
       "    </tr>\n",
       "    <tr>\n",
       "      <th>507</th>\n",
       "      <td>2020-10-17</td>\n",
       "      <td>Regional Municipality of York</td>\n",
       "      <td>-17</td>\n",
       "      <td>8</td>\n",
       "      <td>253</td>\n",
       "      <td>-33</td>\n",
       "      <td>-1</td>\n",
       "      <td>6</td>\n",
       "      <td>Saturday</td>\n",
       "      <td>NoHoliday</td>\n",
       "      <td>False</td>\n",
       "      <td>False</td>\n",
       "      <td>True</td>\n",
       "      <td>October</td>\n",
       "    </tr>\n",
       "  </tbody>\n",
       "</table>\n",
       "</div>"
      ],
      "text/plain": [
       "           date                        subregion retail_and_recreation  \\\n",
       "252  2020-10-10  Regional Municipality of Halton                   -21   \n",
       "254  2020-10-12  Regional Municipality of Halton                   -59   \n",
       "259  2020-10-17  Regional Municipality of Halton                   -13   \n",
       "500  2020-10-10    Regional Municipality of York                   -23   \n",
       "501  2020-10-11    Regional Municipality of York                   -23   \n",
       "502  2020-10-12    Regional Municipality of York                   -45   \n",
       "507  2020-10-17    Regional Municipality of York                   -17   \n",
       "\n",
       "    grocery_and_pharmacy  parks  transit_stations  workplaces  residential  \\\n",
       "252                   12    215               -29          -4            5   \n",
       "254                  -54    259               -78         -85           25   \n",
       "259                   10    246               -23          -2            6   \n",
       "500                    9    213               -33          -5            6   \n",
       "501                    6    204               -40          -7            4   \n",
       "502                  -35    201               -73         -83           26   \n",
       "507                    8    253               -33          -1            6   \n",
       "\n",
       "     day_name  holiday_name  is_holiday  is_weekday  is_weekend    month  \n",
       "252  Saturday     NoHoliday       False       False        True  October  \n",
       "254    Monday  Thanksgiving        True        True       False  October  \n",
       "259  Saturday     NoHoliday       False       False        True  October  \n",
       "500  Saturday     NoHoliday       False       False        True  October  \n",
       "501    Sunday     NoHoliday       False       False        True  October  \n",
       "502    Monday  Thanksgiving        True        True       False  October  \n",
       "507  Saturday     NoHoliday       False       False        True  October  "
      ]
     },
     "execution_count": 103,
     "metadata": {},
     "output_type": "execute_result"
    }
   ],
   "source": [
    "x.head(10)"
   ]
  },
  {
   "cell_type": "code",
   "execution_count": 104,
   "metadata": {},
   "outputs": [
    {
     "data": {
      "text/plain": [
       "Text(0, 0.5, 'Residential mobility')"
      ]
     },
     "execution_count": 104,
     "metadata": {},
     "output_type": "execute_result"
    },
    {
     "data": {
      "image/png": "[encoded data removed]",
      "text/plain": [
       "<Figure size 432x288 with 1 Axes>"
      ]
     },
     "metadata": {
      "needs_background": "light"
     },
     "output_type": "display_data"
    }
   ],
   "source": [
    "x = data['workplaces']\n",
    "y = data['residential'] \n",
    "plt.scatter(x, y, c='green') \n",
    "plt.xlabel('Workspace mobility') \n",
    "plt.ylabel('Residential mobility')\n",
    "\n",
    "# Scatter plot graph shows some correlation between workspace and residential mobility.\n",
    "# Workspace and residential mobility are inversially proportional to each other."
   ]
  },
  {
   "cell_type": "code",
   "execution_count": 105,
   "metadata": {},
   "outputs": [
    {
     "data": {
      "text/plain": [
       "Text(0, 0.5, 'Grocery/Pharmacy mobility')"
      ]
     },
     "execution_count": 105,
     "metadata": {},
     "output_type": "execute_result"
    },
    {
     "data": {
      "image/png": "[encoded data removed]",
      "text/plain": [
       "<Figure size 432x288 with 1 Axes>"
      ]
     },
     "metadata": {
      "needs_background": "light"
     },
     "output_type": "display_data"
    }
   ],
   "source": [
    "x = data['retail_and_recreation']\n",
    "y = data['grocery_and_pharmacy'] \n",
    "plt.scatter(x, y, c='red') \n",
    "plt.xlabel('Retail/Recreation mobility') \n",
    "plt.ylabel('Grocery/Pharmacy mobility')\n",
    "\n",
    "# Scatter plot graph shows some correlation between retail/recreation and grocery/pharmacy mobility.\n",
    "# Workspace and residential mobility are proportional to each other."
   ]
  },
  {
   "cell_type": "code",
   "execution_count": 106,
   "metadata": {},
   "outputs": [
    {
     "data": {
      "text/plain": [
       "Text(0, 0.5, 'Parks mobility')"
      ]
     },
     "execution_count": 106,
     "metadata": {},
     "output_type": "execute_result"
    },
    {
     "data": {
      "image/png": "[encoded data removed]",
      "text/plain": [
       "<Figure size 432x288 with 1 Axes>"
      ]
     },
     "metadata": {
      "needs_background": "light"
     },
     "output_type": "display_data"
    }
   ],
   "source": [
    "x = data['retail_and_recreation']\n",
    "y = data['parks'] \n",
    "plt.scatter(x, y, c='blue') \n",
    "plt.xlabel('Retail/Recreation mobility') \n",
    "plt.ylabel('Parks mobility')\n",
    "\n",
    "# Scatter plot graph shows no true correlation between retail/recreation and parks mobility."
   ]
  },
  {
   "cell_type": "code",
   "execution_count": 107,
   "metadata": {},
   "outputs": [
    {
     "data": {
      "text/plain": [
       "Text(0, 0.5, 'Parks mobility')"
      ]
     },
     "execution_count": 107,
     "metadata": {},
     "output_type": "execute_result"
    },
    {
     "data": {
      "image/png": "[encoded data removed]",
      "text/plain": [
       "<Figure size 432x288 with 1 Axes>"
      ]
     },
     "metadata": {
      "needs_background": "light"
     },
     "output_type": "display_data"
    }
   ],
   "source": [
    "x = data['transit_stations']\n",
    "y = data['parks'] \n",
    "plt.scatter(x, y, c='yellow') \n",
    "plt.xlabel('Transit stations mobility') \n",
    "plt.ylabel('Parks mobility')\n",
    "\n",
    "# Scatter plot graph shows no true correlation between transit/parks and parks mobility."
   ]
  },
  {
   "cell_type": "code",
   "execution_count": 108,
   "metadata": {},
   "outputs": [
    {
     "data": {
      "text/plain": [
       "Text(0, 0.5, 'Residential mobility')"
      ]
     },
     "execution_count": 108,
     "metadata": {},
     "output_type": "execute_result"
    },
    {
     "data": {
      "image/png": "[encoded data removed]",
      "text/plain": [
       "<Figure size 432x288 with 1 Axes>"
      ]
     },
     "metadata": {
      "needs_background": "light"
     },
     "output_type": "display_data"
    }
   ],
   "source": [
    "x = data['transit_stations']\n",
    "y = data['residential'] \n",
    "plt.scatter(x, y, c='purple') \n",
    "plt.xlabel('Transit stations mobility') \n",
    "plt.ylabel('Residential mobility')\n",
    "\n",
    "# Scatter plot graph shows some kind of correlation between retail/recreation and parks mobility."
   ]
  },
  {
   "cell_type": "code",
   "execution_count": null,
   "metadata": {},
   "outputs": [],
   "source": []
  }
 ],
 "metadata": {
  "kernelspec": {
   "display_name": "Python 3",
   "language": "python",
   "name": "python3"
  },
  "language_info": {
   "codemirror_mode": {
    "name": "ipython",
    "version": 3
   },
   "file_extension": ".py",
   "mimetype": "text/x-python",
   "name": "python",
   "nbconvert_exporter": "python",
   "pygments_lexer": "ipython3",
   "version": "3.8.5"
  }
 },
 "nbformat": 4,
 "nbformat_minor": 4
}
