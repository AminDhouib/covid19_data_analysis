{
 "cells": [
  {
   "cell_type": "code",
   "execution_count": 1,
   "metadata": {},
   "outputs": [
    {
     "name": "stdout",
     "output_type": "stream",
     "text": [
      "Loading data...\n",
      "Attempting to connect to the database\n",
      "Connected!\n",
      "Fetching query...\n",
      "Fetched!\n",
      "Loading data in dataframe\n",
      "Data loaded into dataframe!\n",
      "Class imbalance check for label: title\n",
      "Counter({'stay_at_home': 46928, 'workplace_closure': 26044, 'contact_tracing': 15082, 'school_closure': 14812, 'restrictions_on_gatherings': 7130, 'intern_travel_control': 2356})\n",
      "Started data transformation...\n",
      "Started preprocessing...\n",
      "Extracting labels and features...\n",
      "Labels and features extracted!\n",
      "Encoding categorical features...\n",
      "Normalizing numerical features...\n",
      "Index(['gender', 'age_group', 'outbreak_related', 'month_name', 'is_holiday',\n",
      "       'season', 'is_weekend', 'phu_name', 'retail_and_recreation',\n",
      "       'grocery_and_pharmacy', 'num_resolved', 'num_unresolved', 'num_fatal'],\n",
      "      dtype='object')\n",
      "Preprocessing done!\n",
      "Data transformation done! Data is ready for training.\n",
      "Started feature selection...\n",
      "Selecting top 8 features\n",
      "Feature selection done!\n"
     ]
    }
   ],
   "source": [
    "from ipynb.fs.full.prepare_data import *\n",
    "from sklearn.model_selection import train_test_split\n",
    "from imblearn.pipeline import make_pipeline\n",
    "from sklearn.ensemble import GradientBoostingClassifier\n",
    "from sklearn.metrics import recall_score, precision_score\n",
    "from sklearn.metrics import confusion_matrix, ConfusionMatrixDisplay\n",
    "from sklearn.metrics import accuracy_score\n",
    "from sklearn.model_selection import GridSearchCV\n",
    "from imblearn.over_sampling import SMOTE, ADASYN\n",
    "import pickle"
   ]
  },
  {
   "cell_type": "markdown",
   "metadata": {},
   "source": [
    "Tuning tree-specific paramters"
   ]
  },
  {
   "cell_type": "markdown",
   "metadata": {},
   "source": [
    "1. Tune max_depth and num_samples_split"
   ]
  },
  {
   "cell_type": "code",
   "execution_count": 2,
   "metadata": {},
   "outputs": [],
   "source": [
    "# Oversample\n",
    "X_train, y_train = SMOTE().fit_resample(X_train, y_train)"
   ]
  },
  {
   "cell_type": "code",
   "execution_count": 5,
   "metadata": {},
   "outputs": [
    {
     "data": {
      "text/plain": [
       "({'mean_fit_time': array([ 68.41130009,  77.07702699,  85.2432476 ,  91.73504782,\n",
       "         102.53785481, 111.44201546, 118.05423236, 122.69532971,\n",
       "         132.82974067, 136.01971183, 145.35739193, 149.13567576]),\n",
       "  'std_fit_time': array([0.36030499, 0.50220789, 0.33092729, 0.71551028, 0.43739983,\n",
       "         0.5372518 , 0.71860983, 1.65780004, 2.64564162, 2.91077705,\n",
       "         1.21896757, 4.66540061]),\n",
       "  'mean_score_time': array([0.51822801, 0.53459787, 0.61865759, 0.69551744, 0.69722972,\n",
       "         0.78824787, 0.81176195, 0.87887006, 0.90944109, 0.98175006,\n",
       "         1.01802449, 1.05664454]),\n",
       "  'std_score_time': array([0.01944502, 0.03142645, 0.04836122, 0.06985174, 0.01608683,\n",
       "         0.02337418, 0.0441148 , 0.0746942 , 0.0507358 , 0.04604504,\n",
       "         0.03945763, 0.12735801]),\n",
       "  'param_n_estimators': masked_array(data=[80, 90, 100, 110, 120, 130, 140, 150, 160, 170, 180,\n",
       "                     190],\n",
       "               mask=[False, False, False, False, False, False, False, False,\n",
       "                     False, False, False, False],\n",
       "         fill_value='?',\n",
       "              dtype=object),\n",
       "  'params': [{'n_estimators': 80},\n",
       "   {'n_estimators': 90},\n",
       "   {'n_estimators': 100},\n",
       "   {'n_estimators': 110},\n",
       "   {'n_estimators': 120},\n",
       "   {'n_estimators': 130},\n",
       "   {'n_estimators': 140},\n",
       "   {'n_estimators': 150},\n",
       "   {'n_estimators': 160},\n",
       "   {'n_estimators': 170},\n",
       "   {'n_estimators': 180},\n",
       "   {'n_estimators': 190}],\n",
       "  'split0_test_score': array([0.89414219, 0.89953608, 0.90346496, 0.91218841, 0.91556236,\n",
       "         0.91964662, 0.92384187, 0.92754878, 0.92903598, 0.93163304,\n",
       "         0.93278729, 0.93609465]),\n",
       "  'split1_test_score': array([0.8925662 , 0.89902555, 0.90584005, 0.91263235, 0.91707176,\n",
       "         0.9190695 , 0.92046791, 0.92330914, 0.92617256, 0.92830348,\n",
       "         0.93019023, 0.93312024]),\n",
       "  'split2_test_score': array([0.90104329, 0.90792453, 0.910899  , 0.91651498, 0.92066593,\n",
       "         0.92297447, 0.92574917, 0.92914539, 0.93112098, 0.93449501,\n",
       "         0.93584906, 0.93671476]),\n",
       "  'split3_test_score': array([0.89507214, 0.89955605, 0.90277469, 0.91278579, 0.91824639,\n",
       "         0.92119867, 0.92235294, 0.92807991, 0.9291232 , 0.93043285,\n",
       "         0.93487236, 0.93618202]),\n",
       "  'split4_test_score': array([0.89928968, 0.90588235, 0.90921199, 0.91378468, 0.91713651,\n",
       "         0.91964484, 0.92122087, 0.92386238, 0.92574917, 0.93218646,\n",
       "         0.93420644, 0.93680355]),\n",
       "  'mean_test_score': array([0.8964227 , 0.90238491, 0.90643814, 0.91358124, 0.91773659,\n",
       "         0.92050682, 0.92272655, 0.92638912, 0.92824038, 0.93141017,\n",
       "         0.93358107, 0.93578304]),\n",
       "  'std_test_score': array([0.00320832, 0.00375028, 0.00316897, 0.00155701, 0.0016953 ,\n",
       "         0.00142245, 0.00189147, 0.0023525 , 0.00200959, 0.00203839,\n",
       "         0.00196622, 0.00136061]),\n",
       "  'rank_test_score': array([12, 11, 10,  9,  8,  7,  6,  5,  4,  3,  2,  1])},\n",
       " {'n_estimators': 190},\n",
       " 0.9357830445509887)"
      ]
     },
     "execution_count": 5,
     "metadata": {},
     "output_type": "execute_result"
    }
   ],
   "source": [
    "param_test1 = {'n_estimators':range(80,200,10)}\n",
    "gsearch1 = GridSearchCV(estimator = GradientBoostingClassifier(learning_rate=0.1, min_samples_split=500,min_samples_leaf=50,max_depth=5,max_features='sqrt',subsample=0.8,random_state=10),  param_grid = param_test1, scoring='recall_micro',n_jobs=4,cv=5)\n",
    "gsearch1.fit(X_train, y_train)\n",
    "gsearch1.cv_results_, gsearch1.best_params_, gsearch1.best_score_"
   ]
  },
  {
   "cell_type": "code",
   "execution_count": 6,
   "metadata": {},
   "outputs": [
    {
     "data": {
      "text/plain": [
       "({'mean_fit_time': array([111.57139721, 107.22424612, 111.08159523, 101.15361371,\n",
       "          99.01841154, 121.15022879, 118.83457346, 118.62732983,\n",
       "         117.64716229, 118.08160849, 144.6488142 , 138.94898429,\n",
       "         136.72068319, 136.92698588, 137.02177963, 177.94800501,\n",
       "         165.50636973, 159.18648462, 155.66931086, 149.68219385,\n",
       "         213.18007655, 190.07099414, 176.8119761 , 171.41622539,\n",
       "         163.76983399, 259.10464163, 216.66850886, 196.45765414,\n",
       "         185.44639721, 172.91945152]),\n",
       "  'std_fit_time': array([0.58708581, 0.71889445, 0.90323577, 0.3763327 , 0.52005268,\n",
       "         0.60814002, 0.52216907, 0.87935473, 1.20224119, 1.4960015 ,\n",
       "         1.16521031, 1.42848134, 1.76412444, 2.36062344, 1.79231206,\n",
       "         1.0930156 , 2.13424847, 3.50772683, 2.13532318, 0.8877711 ,\n",
       "         3.68456927, 2.60093575, 1.6522889 , 1.55956329, 1.6961104 ,\n",
       "         2.172497  , 2.52411463, 1.0236126 , 2.06081142, 2.48141217]),\n",
       "  'mean_score_time': array([0.74541759, 0.803335  , 0.78628817, 0.71872864, 0.70440612,\n",
       "         1.0820909 , 1.04993215, 1.05004573, 1.02022924, 1.00423732,\n",
       "         1.42891731, 1.40211859, 1.37935033, 1.41177974, 1.33975096,\n",
       "         1.94873319, 1.85900211, 1.7736979 , 1.76393642, 1.68888111,\n",
       "         2.30536165, 2.1553339 , 2.09490643, 1.97670264, 1.98977733,\n",
       "         2.64188886, 2.39580317, 2.30807238, 2.21641793, 2.08999119]),\n",
       "  'std_score_time': array([0.03497653, 0.09712267, 0.08217575, 0.02728402, 0.03154654,\n",
       "         0.06344993, 0.05084474, 0.07862485, 0.05741094, 0.03691527,\n",
       "         0.07209647, 0.08315042, 0.05862344, 0.07001494, 0.0504459 ,\n",
       "         0.12358088, 0.06932556, 0.07372088, 0.07304217, 0.05549658,\n",
       "         0.08940347, 0.06078179, 0.06312993, 0.08053017, 0.08225672,\n",
       "         0.16446951, 0.08950836, 0.10083799, 0.12223501, 0.08921596]),\n",
       "  'param_max_depth': masked_array(data=[5, 5, 5, 5, 5, 7, 7, 7, 7, 7, 9, 9, 9, 9, 9, 11, 11,\n",
       "                     11, 11, 11, 13, 13, 13, 13, 13, 15, 15, 15, 15, 15],\n",
       "               mask=[False, False, False, False, False, False, False, False,\n",
       "                     False, False, False, False, False, False, False, False,\n",
       "                     False, False, False, False, False, False, False, False,\n",
       "                     False, False, False, False, False, False],\n",
       "         fill_value='?',\n",
       "              dtype=object),\n",
       "  'param_min_samples_split': masked_array(data=[200, 400, 600, 800, 1000, 200, 400, 600, 800, 1000,\n",
       "                     200, 400, 600, 800, 1000, 200, 400, 600, 800, 1000,\n",
       "                     200, 400, 600, 800, 1000, 200, 400, 600, 800, 1000],\n",
       "               mask=[False, False, False, False, False, False, False, False,\n",
       "                     False, False, False, False, False, False, False, False,\n",
       "                     False, False, False, False, False, False, False, False,\n",
       "                     False, False, False, False, False, False],\n",
       "         fill_value='?',\n",
       "              dtype=object),\n",
       "  'params': [{'max_depth': 5, 'min_samples_split': 200},\n",
       "   {'max_depth': 5, 'min_samples_split': 400},\n",
       "   {'max_depth': 5, 'min_samples_split': 600},\n",
       "   {'max_depth': 5, 'min_samples_split': 800},\n",
       "   {'max_depth': 5, 'min_samples_split': 1000},\n",
       "   {'max_depth': 7, 'min_samples_split': 200},\n",
       "   {'max_depth': 7, 'min_samples_split': 400},\n",
       "   {'max_depth': 7, 'min_samples_split': 600},\n",
       "   {'max_depth': 7, 'min_samples_split': 800},\n",
       "   {'max_depth': 7, 'min_samples_split': 1000},\n",
       "   {'max_depth': 9, 'min_samples_split': 200},\n",
       "   {'max_depth': 9, 'min_samples_split': 400},\n",
       "   {'max_depth': 9, 'min_samples_split': 600},\n",
       "   {'max_depth': 9, 'min_samples_split': 800},\n",
       "   {'max_depth': 9, 'min_samples_split': 1000},\n",
       "   {'max_depth': 11, 'min_samples_split': 200},\n",
       "   {'max_depth': 11, 'min_samples_split': 400},\n",
       "   {'max_depth': 11, 'min_samples_split': 600},\n",
       "   {'max_depth': 11, 'min_samples_split': 800},\n",
       "   {'max_depth': 11, 'min_samples_split': 1000},\n",
       "   {'max_depth': 13, 'min_samples_split': 200},\n",
       "   {'max_depth': 13, 'min_samples_split': 400},\n",
       "   {'max_depth': 13, 'min_samples_split': 600},\n",
       "   {'max_depth': 13, 'min_samples_split': 800},\n",
       "   {'max_depth': 13, 'min_samples_split': 1000},\n",
       "   {'max_depth': 15, 'min_samples_split': 200},\n",
       "   {'max_depth': 15, 'min_samples_split': 400},\n",
       "   {'max_depth': 15, 'min_samples_split': 600},\n",
       "   {'max_depth': 15, 'min_samples_split': 800},\n",
       "   {'max_depth': 15, 'min_samples_split': 1000}],\n",
       "  'split0_test_score': array([0.8857961 , 0.883532  , 0.88217798, 0.87913698, 0.88317684,\n",
       "         0.92570642, 0.92202171, 0.92350891, 0.9198242 , 0.92390846,\n",
       "         0.94947948, 0.94586136, 0.94528423, 0.94239861, 0.94002353,\n",
       "         0.96037824, 0.95846929, 0.95562807, 0.95376351, 0.95223191,\n",
       "         0.96326386, 0.96202082, 0.95942376, 0.95831391, 0.95720406,\n",
       "         0.96481765, 0.96264234, 0.96084438, 0.95971233, 0.95822512]),\n",
       "  'split1_test_score': array([0.87995827, 0.87862645, 0.87602939, 0.87549666, 0.87543007,\n",
       "         0.9213114 , 0.92248785, 0.9236199 , 0.92040132, 0.9190917 ,\n",
       "         0.94890236, 0.94692682, 0.9425096 , 0.94002353, 0.93878049,\n",
       "         0.96002308, 0.95775898, 0.95520632, 0.95438503, 0.95027857,\n",
       "         0.96355242, 0.96117733, 0.96020066, 0.95806974, 0.95607201,\n",
       "         0.96490644, 0.96301969, 0.96115514, 0.95984551, 0.95793656]),\n",
       "  'split2_test_score': array([0.88388457, 0.87984462, 0.88139845, 0.88155383, 0.87895671,\n",
       "         0.92630411, 0.92601554, 0.921798  , 0.92195339, 0.92084351,\n",
       "         0.94792453, 0.94688124, 0.94390677, 0.94155383, 0.94062153,\n",
       "         0.9617758 , 0.95853496, 0.95695893, 0.95338513, 0.95296337,\n",
       "         0.96483907, 0.96257492, 0.96073252, 0.9600444 , 0.95755827,\n",
       "         0.96641509, 0.96477248, 0.96290788, 0.96168701, 0.96022198]),\n",
       "  'split3_test_score': array([0.88188679, 0.87948946, 0.88221976, 0.88126526, 0.8790677 ,\n",
       "         0.92590455, 0.92384018, 0.92244173, 0.91811321, 0.92117647,\n",
       "         0.94801332, 0.94881243, 0.94372919, 0.94399556, 0.94053274,\n",
       "         0.96071032, 0.95853496, 0.95658158, 0.95400666, 0.95258602,\n",
       "         0.96446171, 0.96237514, 0.96137625, 0.9590899 , 0.95709212,\n",
       "         0.96697003, 0.96461709, 0.9627303 , 0.96128746, 0.9591343 ]),\n",
       "  'split4_test_score': array([0.88073252, 0.87744728, 0.87895671, 0.8818202 , 0.8799778 ,\n",
       "         0.92384018, 0.92221976, 0.91915649, 0.9209323 , 0.91857936,\n",
       "         0.94954495, 0.94770255, 0.94417314, 0.94304107, 0.93922309,\n",
       "         0.96206437, 0.95935627, 0.95602664, 0.95502775, 0.95049945,\n",
       "         0.96539401, 0.96304107, 0.96157603, 0.96      , 0.95753607,\n",
       "         0.96663707, 0.96479467, 0.96319645, 0.96148724, 0.95957825]),\n",
       "  'mean_test_score': array([0.88245165, 0.87978796, 0.88015646, 0.87985459, 0.87932183,\n",
       "         0.92461333, 0.92331701, 0.92210501, 0.92024488, 0.9207199 ,\n",
       "         0.94877293, 0.94723688, 0.94392059, 0.94220252, 0.93983628,\n",
       "         0.96099036, 0.95853089, 0.95608031, 0.95411362, 0.95171186,\n",
       "         0.96430221, 0.96223785, 0.96066184, 0.95910359, 0.9570925 ,\n",
       "         0.96594926, 0.96396925, 0.96216683, 0.96080391, 0.95901924]),\n",
       "  'std_test_score': array([0.00213214, 0.00204636, 0.00238153, 0.00237687, 0.00247528,\n",
       "         0.00185587, 0.00149165, 0.00162279, 0.0012757 , 0.00187742,\n",
       "         0.00069409, 0.00098121, 0.00088893, 0.00135096, 0.0007249 ,\n",
       "         0.00079488, 0.00050615, 0.00063159, 0.00056107, 0.00110681,\n",
       "         0.00079323, 0.00062441, 0.00078697, 0.00082235, 0.00054176,\n",
       "         0.00090555, 0.00093899, 0.00096945, 0.00084743, 0.00084559]),\n",
       "  'rank_test_score': array([26, 29, 27, 28, 30, 21, 22, 23, 25, 24, 16, 17, 18, 19, 20,  6, 11,\n",
       "         13, 14, 15,  2,  4,  8,  9, 12,  1,  3,  5,  7, 10])},\n",
       " {'max_depth': 15, 'min_samples_split': 200},\n",
       " 0.9659492576067015)"
      ]
     },
     "execution_count": 6,
     "metadata": {},
     "output_type": "execute_result"
    }
   ],
   "source": [
    "param_test2 = {'max_depth':range(5,16,2), 'min_samples_split':range(200,1001,200)}\n",
    "gsearch2 = GridSearchCV(estimator = GradientBoostingClassifier(learning_rate=0.05, n_estimators=120, max_features='sqrt', subsample=0.8, random_state=10), \n",
    "param_grid = param_test2, scoring='f1_micro',n_jobs=5, cv=5)\n",
    "gsearch2.fit(X_train,y_train)\n",
    "gsearch2.cv_results_, gsearch2.best_params_, gsearch2.best_score_"
   ]
  },
  {
   "cell_type": "markdown",
   "metadata": {},
   "source": [
    "2. Tune min_samples_leaf"
   ]
  },
  {
   "cell_type": "code",
   "execution_count": null,
   "metadata": {},
   "outputs": [],
   "source": [
    "param_test3 = {'min_samples_split':range(1000,2100,200), 'min_samples_leaf':range(30,71,10)}\n",
    "gsearch3 = GridSearchCV(estimator = GradientBoostingClassifier(learning_rate=0.1, n_estimators=60,max_depth=5,max_features='sqrt', subsample=0.8, random_state=10), \n",
    "param_grid = param_test3, scoring='f1_micro',n_jobs=5, cv=5)\n",
    "gsearch3.fit(X_train,y_train)\n",
    "gsearch3.cv_results_, gsearch3.best_params_, gsearch3.best_score_"
   ]
  },
  {
   "cell_type": "markdown",
   "metadata": {},
   "source": [
    "3. Tune max_features"
   ]
  },
  {
   "cell_type": "code",
   "execution_count": null,
   "metadata": {
    "scrolled": false
   },
   "outputs": [],
   "source": [
    "param_test4 = {'max_features':range(2,8,2)}\n",
    "gsearch4 = GridSearchCV(estimator = GradientBoostingClassifier(learning_rate=0.1, n_estimators=60,max_depth=5, min_samples_split=1000, min_samples_leaf=30, subsample=0.8, random_state=10),\n",
    "param_grid = param_test4, scoring='f1_micro',n_jobs=4, cv=5)\n",
    "gsearch4.fit(X_train,y_train)\n",
    "gsearch4.cv_results_, gsearch4.best_params_, gsearch4.best_score_"
   ]
  },
  {
   "cell_type": "markdown",
   "metadata": {},
   "source": [
    "4. Tuning subsamples"
   ]
  },
  {
   "cell_type": "code",
   "execution_count": null,
   "metadata": {},
   "outputs": [],
   "source": [
    "param_test5 = {'subsample':[0.6,0.7,0.75,0.8,0.85,0.9]}\n",
    "gsearch5 = GridSearchCV(estimator = GradientBoostingClassifier(learning_rate=0.1, n_estimators=60,max_depth=5,min_samples_split=1000, min_samples_leaf=30, max_features=2, random_state=10),\n",
    "param_grid = param_test5, scoring='f1_micro',n_jobs=5, cv=5)\n",
    "gsearch5.fit(X_train,y_train)\n",
    "gsearch5.cv_results_, gsearch5.best_params_, gsearch5.best_score_"
   ]
  }
 ],
 "metadata": {
  "kernelspec": {
   "display_name": "Python 3",
   "language": "python",
   "name": "python3"
  },
  "language_info": {
   "codemirror_mode": {
    "name": "ipython",
    "version": 3
   },
   "file_extension": ".py",
   "mimetype": "text/x-python",
   "name": "python",
   "nbconvert_exporter": "python",
   "pygments_lexer": "ipython3",
   "version": "3.8.5"
  }
 },
 "nbformat": 4,
 "nbformat_minor": 4
}
